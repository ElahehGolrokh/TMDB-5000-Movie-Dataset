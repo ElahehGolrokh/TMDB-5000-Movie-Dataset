{
  "nbformat": 4,
  "nbformat_minor": 0,
  "metadata": {
    "colab": {
      "provenance": []
    },
    "kernelspec": {
      "name": "python3",
      "display_name": "Python 3"
    },
    "language_info": {
      "name": "python"
    }
  },
  "cells": [
    {
      "cell_type": "code",
      "source": [
        "# Author: Elahe Golrokh\n",
        "# Repo: https://github.com/ElahehGolrokh/TMDB-5000-Movie-Dataset.git\n",
        "# TODO: CONSIDER THE EFFECT OF DIRECTOR AND OTHER CREW"
      ],
      "metadata": {
        "id": "oHV2NbTPhPXK"
      },
      "execution_count": null,
      "outputs": []
    },
    {
      "cell_type": "markdown",
      "source": [
        "# **1- Importing Libararies**"
      ],
      "metadata": {
        "id": "ks4vDzqNemOI"
      }
    },
    {
      "cell_type": "code",
      "execution_count": null,
      "metadata": {
        "id": "i363VjjfJR_S"
      },
      "outputs": [],
      "source": [
        "import ast\n",
        "import json\n",
        "import numpy as np\n",
        "import pandas as pd\n",
        "import matplotlib.pyplot as plt\n",
        "import seaborn as sns\n",
        "import os\n",
        "sns.set()\n",
        "%matplotlib inline"
      ]
    },
    {
      "cell_type": "code",
      "source": [
        "import matplotlib as mpl\n",
        "import math, nltk, warnings\n",
        "from nltk.corpus import wordnet\n",
        "from sklearn import linear_model\n",
        "from sklearn.neighbors import NearestNeighbors\n",
        "from wordcloud import WordCloud, STOPWORDS\n",
        "from IPython.core.interactiveshell import InteractiveShell\n"
      ],
      "metadata": {
        "id": "nVIICBr_jrIX"
      },
      "execution_count": null,
      "outputs": []
    },
    {
      "cell_type": "markdown",
      "source": [
        "# **2- Loading Data**"
      ],
      "metadata": {
        "id": "s0f_Iv68fBHW"
      }
    },
    {
      "cell_type": "code",
      "source": [
        "from google.colab import drive\n",
        "drive.mount('drive/')"
      ],
      "metadata": {
        "colab": {
          "base_uri": "https://localhost:8080/"
        },
        "id": "nOWW_tYBJv7n",
        "outputId": "fdc931da-3fd6-40c6-b6b5-ea1b8c501260"
      },
      "execution_count": null,
      "outputs": [
        {
          "output_type": "stream",
          "name": "stdout",
          "text": [
            "Mounted at drive/\n"
          ]
        }
      ]
    },
    {
      "cell_type": "code",
      "source": [
        "data_path = '/content/drive/MyDrive/archive.zip'"
      ],
      "metadata": {
        "id": "sJxikRajJ1Uv"
      },
      "execution_count": null,
      "outputs": []
    },
    {
      "cell_type": "code",
      "source": [
        "!unzip -q $data_path"
      ],
      "metadata": {
        "id": "neHuafWRKxbq"
      },
      "execution_count": null,
      "outputs": []
    },
    {
      "cell_type": "markdown",
      "source": [
        "# **3- Feature Engineering**"
      ],
      "metadata": {
        "id": "a6I-vLWkfGyU"
      }
    },
    {
      "cell_type": "code",
      "source": [
        "#___________________________\n",
        "def load_tmdb_movies(path):\n",
        "    df = pd.read_csv(path)\n",
        "    df['release_date'] = pd.to_datetime(df['release_date']).apply(lambda x: x.date())\n",
        "    json_columns = ['genres', 'keywords', 'production_countries',\n",
        "                    'production_companies', 'spoken_languages']\n",
        "    for column in json_columns:\n",
        "        df[column] = df[column].apply(json.loads)\n",
        "    return df\n",
        "#___________________________\n",
        "def load_tmdb_credits(path):\n",
        "    df = pd.read_csv(path)\n",
        "    json_columns = ['cast', 'crew']\n",
        "    for column in json_columns:\n",
        "        df[column] = df[column].apply(json.loads)\n",
        "    return df\n",
        "#___________________\n",
        "LOST_COLUMNS = [\n",
        "    'actor_1_facebook_likes',\n",
        "    'actor_2_facebook_likes',\n",
        "    'actor_3_facebook_likes',\n",
        "    'aspect_ratio',\n",
        "    'cast_total_facebook_likes',\n",
        "    'color',\n",
        "    'content_rating',\n",
        "    'director_facebook_likes',\n",
        "    'facenumber_in_poster',\n",
        "    'movie_facebook_likes',\n",
        "    'movie_imdb_link',\n",
        "    'num_critic_for_reviews',\n",
        "    'num_user_for_reviews']\n",
        "#____________________________________\n",
        "TMDB_TO_IMDB_SIMPLE_EQUIVALENCIES = {\n",
        "    'budget': 'budget',\n",
        "    'genres': 'genres',\n",
        "    'revenue': 'gross',\n",
        "    'title': 'movie_title',\n",
        "    'runtime': 'duration',\n",
        "    'original_language': 'language',\n",
        "    'keywords': 'plot_keywords',\n",
        "    'vote_count': 'num_voted_users'}\n",
        "#_____________________________________________________\n",
        "IMDB_COLUMNS_TO_REMAP = {'imdb_score': 'vote_average'}\n",
        "#_____________________________________________________\n",
        "def safe_access(container, index_values):\n",
        "    # return missing value rather than an error upon indexing/key failure\n",
        "    result = container\n",
        "    try:\n",
        "        for idx in index_values:\n",
        "            result = result[idx]\n",
        "        return result\n",
        "    except IndexError or KeyError:\n",
        "        return pd.np.nan\n",
        "#_____________________________________________________\n",
        "def get_director(crew_data):\n",
        "    directors = [x['name'] for x in crew_data if x['job'] == 'Director']\n",
        "    return safe_access(directors, [0])\n",
        "#_____________________________________________________\n",
        "def pipe_flatten_names(keywords):\n",
        "    return '|'.join([x['name'] for x in keywords])\n",
        "#_____________________________________________________\n",
        "def convert_to_original_format(movies, credits):\n",
        "    tmdb_movies = movies.copy()\n",
        "    tmdb_movies.rename(columns=TMDB_TO_IMDB_SIMPLE_EQUIVALENCIES, inplace=True)\n",
        "    tmdb_movies['title_year'] = pd.to_datetime(tmdb_movies['release_date']).apply(lambda x: x.year)\n",
        "    # I'm assuming that the first production country is equivalent, but have not been able to validate this\n",
        "    tmdb_movies['country'] = tmdb_movies['production_countries'].apply(lambda x: safe_access(x, [0, 'name']))\n",
        "    tmdb_movies['language'] = tmdb_movies['spoken_languages'].apply(lambda x: safe_access(x, [0, 'name']))\n",
        "    tmdb_movies['director_name'] = credits['crew'].apply(get_director)\n",
        "    tmdb_movies['actor_1_name'] = credits['cast'].apply(lambda x: safe_access(x, [1, 'name']))\n",
        "    tmdb_movies['actor_2_name'] = credits['cast'].apply(lambda x: safe_access(x, [2, 'name']))\n",
        "    tmdb_movies['actor_3_name'] = credits['cast'].apply(lambda x: safe_access(x, [3, 'name']))\n",
        "    tmdb_movies['genres'] = tmdb_movies['genres'].apply(pipe_flatten_names)\n",
        "    tmdb_movies['plot_keywords'] = tmdb_movies['plot_keywords'].apply(pipe_flatten_names)\n",
        "    tmdb_movies['production_companies'] = tmdb_movies['production_companies'].apply(pipe_flatten_names)\n",
        "    tmdb_movies['production_countries'] = tmdb_movies['production_countries'].apply(pipe_flatten_names)\n",
        "    return tmdb_movies"
      ],
      "metadata": {
        "id": "pKk2C5V5emyy"
      },
      "execution_count": null,
      "outputs": []
    },
    {
      "cell_type": "code",
      "source": [
        "# plt.rcParams[\"patch.force_edgecolor\"] = True\n",
        "# plt.style.use('fivethirtyeight')\n",
        "# mpl.rc('patch', edgecolor = 'dimgray', linewidth=1)\n",
        "# InteractiveShell.ast_node_interactivity = \"last_expr\"\n",
        "pd.options.display.max_columns = 50\n",
        "warnings.filterwarnings('ignore')\n",
        "PS = nltk.stem.PorterStemmer()\n",
        "#__________________\n",
        "# load the dataset\n",
        "credits = load_tmdb_credits(\"/content/tmdb_5000_credits.csv\")\n",
        "movies = load_tmdb_movies(\"/content/tmdb_5000_movies.csv\")\n",
        "df_initial = convert_to_original_format(movies, credits)\n",
        "print('Shape:',df_initial.shape)\n",
        "#__________________________________________\n",
        "# info on variable types and filling factor\n",
        "tab_info=pd.DataFrame(df_initial.dtypes).T.rename(index={0:'column type'})\n",
        "tab_info=tab_info.append(pd.DataFrame(df_initial.isnull().sum()).T.rename(index={0:'null values'}))\n",
        "tab_info=tab_info.append(pd.DataFrame(df_initial.isnull().sum()/df_initial.shape[0]*100).T.\n",
        "                         rename(index={0:'null values (%)'}))\n",
        "tab_info.T"
      ],
      "metadata": {
        "colab": {
          "base_uri": "https://localhost:8080/"
        },
        "id": "RneWL6gmfkTz",
        "outputId": "0a930dc5-2ba4-4fdc-97e6-00ee9196515d"
      },
      "execution_count": null,
      "outputs": [
        {
          "output_type": "stream",
          "name": "stdout",
          "text": [
            "Shape: (4803, 26)\n"
          ]
        },
        {
          "output_type": "execute_result",
          "data": {
            "text/plain": [
              "                     column type null values null values (%)\n",
              "budget                     int64           0             0.0\n",
              "genres                    object           0             0.0\n",
              "homepage                  object        3091       64.355611\n",
              "id                         int64           0             0.0\n",
              "plot_keywords             object           0             0.0\n",
              "language                  object          86        1.790548\n",
              "original_title            object           0             0.0\n",
              "overview                  object           3        0.062461\n",
              "popularity               float64           0             0.0\n",
              "production_companies      object           0             0.0\n",
              "production_countries      object           0             0.0\n",
              "release_date              object           1         0.02082\n",
              "gross                      int64           0             0.0\n",
              "duration                 float64           2        0.041641\n",
              "spoken_languages          object           0             0.0\n",
              "status                    object           0             0.0\n",
              "tagline                   object         844       17.572351\n",
              "movie_title               object           0             0.0\n",
              "vote_average             float64           0             0.0\n",
              "num_voted_users            int64           0             0.0\n",
              "title_year               float64           1         0.02082\n",
              "country                   object         174        3.622736\n",
              "director_name             object          30         0.62461\n",
              "actor_1_name              object          53        1.103477\n",
              "actor_2_name              object          63         1.31168\n",
              "actor_3_name              object          93         1.93629"
            ],
            "text/html": [
              "\n",
              "  <div id=\"df-f9dc4810-dcc2-4943-ba62-de3f8f445088\" class=\"colab-df-container\">\n",
              "    <div>\n",
              "<style scoped>\n",
              "    .dataframe tbody tr th:only-of-type {\n",
              "        vertical-align: middle;\n",
              "    }\n",
              "\n",
              "    .dataframe tbody tr th {\n",
              "        vertical-align: top;\n",
              "    }\n",
              "\n",
              "    .dataframe thead th {\n",
              "        text-align: right;\n",
              "    }\n",
              "</style>\n",
              "<table border=\"1\" class=\"dataframe\">\n",
              "  <thead>\n",
              "    <tr style=\"text-align: right;\">\n",
              "      <th></th>\n",
              "      <th>column type</th>\n",
              "      <th>null values</th>\n",
              "      <th>null values (%)</th>\n",
              "    </tr>\n",
              "  </thead>\n",
              "  <tbody>\n",
              "    <tr>\n",
              "      <th>budget</th>\n",
              "      <td>int64</td>\n",
              "      <td>0</td>\n",
              "      <td>0.0</td>\n",
              "    </tr>\n",
              "    <tr>\n",
              "      <th>genres</th>\n",
              "      <td>object</td>\n",
              "      <td>0</td>\n",
              "      <td>0.0</td>\n",
              "    </tr>\n",
              "    <tr>\n",
              "      <th>homepage</th>\n",
              "      <td>object</td>\n",
              "      <td>3091</td>\n",
              "      <td>64.355611</td>\n",
              "    </tr>\n",
              "    <tr>\n",
              "      <th>id</th>\n",
              "      <td>int64</td>\n",
              "      <td>0</td>\n",
              "      <td>0.0</td>\n",
              "    </tr>\n",
              "    <tr>\n",
              "      <th>plot_keywords</th>\n",
              "      <td>object</td>\n",
              "      <td>0</td>\n",
              "      <td>0.0</td>\n",
              "    </tr>\n",
              "    <tr>\n",
              "      <th>language</th>\n",
              "      <td>object</td>\n",
              "      <td>86</td>\n",
              "      <td>1.790548</td>\n",
              "    </tr>\n",
              "    <tr>\n",
              "      <th>original_title</th>\n",
              "      <td>object</td>\n",
              "      <td>0</td>\n",
              "      <td>0.0</td>\n",
              "    </tr>\n",
              "    <tr>\n",
              "      <th>overview</th>\n",
              "      <td>object</td>\n",
              "      <td>3</td>\n",
              "      <td>0.062461</td>\n",
              "    </tr>\n",
              "    <tr>\n",
              "      <th>popularity</th>\n",
              "      <td>float64</td>\n",
              "      <td>0</td>\n",
              "      <td>0.0</td>\n",
              "    </tr>\n",
              "    <tr>\n",
              "      <th>production_companies</th>\n",
              "      <td>object</td>\n",
              "      <td>0</td>\n",
              "      <td>0.0</td>\n",
              "    </tr>\n",
              "    <tr>\n",
              "      <th>production_countries</th>\n",
              "      <td>object</td>\n",
              "      <td>0</td>\n",
              "      <td>0.0</td>\n",
              "    </tr>\n",
              "    <tr>\n",
              "      <th>release_date</th>\n",
              "      <td>object</td>\n",
              "      <td>1</td>\n",
              "      <td>0.02082</td>\n",
              "    </tr>\n",
              "    <tr>\n",
              "      <th>gross</th>\n",
              "      <td>int64</td>\n",
              "      <td>0</td>\n",
              "      <td>0.0</td>\n",
              "    </tr>\n",
              "    <tr>\n",
              "      <th>duration</th>\n",
              "      <td>float64</td>\n",
              "      <td>2</td>\n",
              "      <td>0.041641</td>\n",
              "    </tr>\n",
              "    <tr>\n",
              "      <th>spoken_languages</th>\n",
              "      <td>object</td>\n",
              "      <td>0</td>\n",
              "      <td>0.0</td>\n",
              "    </tr>\n",
              "    <tr>\n",
              "      <th>status</th>\n",
              "      <td>object</td>\n",
              "      <td>0</td>\n",
              "      <td>0.0</td>\n",
              "    </tr>\n",
              "    <tr>\n",
              "      <th>tagline</th>\n",
              "      <td>object</td>\n",
              "      <td>844</td>\n",
              "      <td>17.572351</td>\n",
              "    </tr>\n",
              "    <tr>\n",
              "      <th>movie_title</th>\n",
              "      <td>object</td>\n",
              "      <td>0</td>\n",
              "      <td>0.0</td>\n",
              "    </tr>\n",
              "    <tr>\n",
              "      <th>vote_average</th>\n",
              "      <td>float64</td>\n",
              "      <td>0</td>\n",
              "      <td>0.0</td>\n",
              "    </tr>\n",
              "    <tr>\n",
              "      <th>num_voted_users</th>\n",
              "      <td>int64</td>\n",
              "      <td>0</td>\n",
              "      <td>0.0</td>\n",
              "    </tr>\n",
              "    <tr>\n",
              "      <th>title_year</th>\n",
              "      <td>float64</td>\n",
              "      <td>1</td>\n",
              "      <td>0.02082</td>\n",
              "    </tr>\n",
              "    <tr>\n",
              "      <th>country</th>\n",
              "      <td>object</td>\n",
              "      <td>174</td>\n",
              "      <td>3.622736</td>\n",
              "    </tr>\n",
              "    <tr>\n",
              "      <th>director_name</th>\n",
              "      <td>object</td>\n",
              "      <td>30</td>\n",
              "      <td>0.62461</td>\n",
              "    </tr>\n",
              "    <tr>\n",
              "      <th>actor_1_name</th>\n",
              "      <td>object</td>\n",
              "      <td>53</td>\n",
              "      <td>1.103477</td>\n",
              "    </tr>\n",
              "    <tr>\n",
              "      <th>actor_2_name</th>\n",
              "      <td>object</td>\n",
              "      <td>63</td>\n",
              "      <td>1.31168</td>\n",
              "    </tr>\n",
              "    <tr>\n",
              "      <th>actor_3_name</th>\n",
              "      <td>object</td>\n",
              "      <td>93</td>\n",
              "      <td>1.93629</td>\n",
              "    </tr>\n",
              "  </tbody>\n",
              "</table>\n",
              "</div>\n",
              "    <div class=\"colab-df-buttons\">\n",
              "\n",
              "  <div class=\"colab-df-container\">\n",
              "    <button class=\"colab-df-convert\" onclick=\"convertToInteractive('df-f9dc4810-dcc2-4943-ba62-de3f8f445088')\"\n",
              "            title=\"Convert this dataframe to an interactive table.\"\n",
              "            style=\"display:none;\">\n",
              "\n",
              "  <svg xmlns=\"http://www.w3.org/2000/svg\" height=\"24px\" viewBox=\"0 -960 960 960\">\n",
              "    <path d=\"M120-120v-720h720v720H120Zm60-500h600v-160H180v160Zm220 220h160v-160H400v160Zm0 220h160v-160H400v160ZM180-400h160v-160H180v160Zm440 0h160v-160H620v160ZM180-180h160v-160H180v160Zm440 0h160v-160H620v160Z\"/>\n",
              "  </svg>\n",
              "    </button>\n",
              "\n",
              "  <style>\n",
              "    .colab-df-container {\n",
              "      display:flex;\n",
              "      gap: 12px;\n",
              "    }\n",
              "\n",
              "    .colab-df-convert {\n",
              "      background-color: #E8F0FE;\n",
              "      border: none;\n",
              "      border-radius: 50%;\n",
              "      cursor: pointer;\n",
              "      display: none;\n",
              "      fill: #1967D2;\n",
              "      height: 32px;\n",
              "      padding: 0 0 0 0;\n",
              "      width: 32px;\n",
              "    }\n",
              "\n",
              "    .colab-df-convert:hover {\n",
              "      background-color: #E2EBFA;\n",
              "      box-shadow: 0px 1px 2px rgba(60, 64, 67, 0.3), 0px 1px 3px 1px rgba(60, 64, 67, 0.15);\n",
              "      fill: #174EA6;\n",
              "    }\n",
              "\n",
              "    .colab-df-buttons div {\n",
              "      margin-bottom: 4px;\n",
              "    }\n",
              "\n",
              "    [theme=dark] .colab-df-convert {\n",
              "      background-color: #3B4455;\n",
              "      fill: #D2E3FC;\n",
              "    }\n",
              "\n",
              "    [theme=dark] .colab-df-convert:hover {\n",
              "      background-color: #434B5C;\n",
              "      box-shadow: 0px 1px 3px 1px rgba(0, 0, 0, 0.15);\n",
              "      filter: drop-shadow(0px 1px 2px rgba(0, 0, 0, 0.3));\n",
              "      fill: #FFFFFF;\n",
              "    }\n",
              "  </style>\n",
              "\n",
              "    <script>\n",
              "      const buttonEl =\n",
              "        document.querySelector('#df-f9dc4810-dcc2-4943-ba62-de3f8f445088 button.colab-df-convert');\n",
              "      buttonEl.style.display =\n",
              "        google.colab.kernel.accessAllowed ? 'block' : 'none';\n",
              "\n",
              "      async function convertToInteractive(key) {\n",
              "        const element = document.querySelector('#df-f9dc4810-dcc2-4943-ba62-de3f8f445088');\n",
              "        const dataTable =\n",
              "          await google.colab.kernel.invokeFunction('convertToInteractive',\n",
              "                                                    [key], {});\n",
              "        if (!dataTable) return;\n",
              "\n",
              "        const docLinkHtml = 'Like what you see? Visit the ' +\n",
              "          '<a target=\"_blank\" href=https://colab.research.google.com/notebooks/data_table.ipynb>data table notebook</a>'\n",
              "          + ' to learn more about interactive tables.';\n",
              "        element.innerHTML = '';\n",
              "        dataTable['output_type'] = 'display_data';\n",
              "        await google.colab.output.renderOutput(dataTable, element);\n",
              "        const docLink = document.createElement('div');\n",
              "        docLink.innerHTML = docLinkHtml;\n",
              "        element.appendChild(docLink);\n",
              "      }\n",
              "    </script>\n",
              "  </div>\n",
              "\n",
              "\n",
              "<div id=\"df-e14cdc25-7482-4930-b68d-2d9ff5e58a25\">\n",
              "  <button class=\"colab-df-quickchart\" onclick=\"quickchart('df-e14cdc25-7482-4930-b68d-2d9ff5e58a25')\"\n",
              "            title=\"Suggest charts\"\n",
              "            style=\"display:none;\">\n",
              "\n",
              "<svg xmlns=\"http://www.w3.org/2000/svg\" height=\"24px\"viewBox=\"0 0 24 24\"\n",
              "     width=\"24px\">\n",
              "    <g>\n",
              "        <path d=\"M19 3H5c-1.1 0-2 .9-2 2v14c0 1.1.9 2 2 2h14c1.1 0 2-.9 2-2V5c0-1.1-.9-2-2-2zM9 17H7v-7h2v7zm4 0h-2V7h2v10zm4 0h-2v-4h2v4z\"/>\n",
              "    </g>\n",
              "</svg>\n",
              "  </button>\n",
              "\n",
              "<style>\n",
              "  .colab-df-quickchart {\n",
              "      --bg-color: #E8F0FE;\n",
              "      --fill-color: #1967D2;\n",
              "      --hover-bg-color: #E2EBFA;\n",
              "      --hover-fill-color: #174EA6;\n",
              "      --disabled-fill-color: #AAA;\n",
              "      --disabled-bg-color: #DDD;\n",
              "  }\n",
              "\n",
              "  [theme=dark] .colab-df-quickchart {\n",
              "      --bg-color: #3B4455;\n",
              "      --fill-color: #D2E3FC;\n",
              "      --hover-bg-color: #434B5C;\n",
              "      --hover-fill-color: #FFFFFF;\n",
              "      --disabled-bg-color: #3B4455;\n",
              "      --disabled-fill-color: #666;\n",
              "  }\n",
              "\n",
              "  .colab-df-quickchart {\n",
              "    background-color: var(--bg-color);\n",
              "    border: none;\n",
              "    border-radius: 50%;\n",
              "    cursor: pointer;\n",
              "    display: none;\n",
              "    fill: var(--fill-color);\n",
              "    height: 32px;\n",
              "    padding: 0;\n",
              "    width: 32px;\n",
              "  }\n",
              "\n",
              "  .colab-df-quickchart:hover {\n",
              "    background-color: var(--hover-bg-color);\n",
              "    box-shadow: 0 1px 2px rgba(60, 64, 67, 0.3), 0 1px 3px 1px rgba(60, 64, 67, 0.15);\n",
              "    fill: var(--button-hover-fill-color);\n",
              "  }\n",
              "\n",
              "  .colab-df-quickchart-complete:disabled,\n",
              "  .colab-df-quickchart-complete:disabled:hover {\n",
              "    background-color: var(--disabled-bg-color);\n",
              "    fill: var(--disabled-fill-color);\n",
              "    box-shadow: none;\n",
              "  }\n",
              "\n",
              "  .colab-df-spinner {\n",
              "    border: 2px solid var(--fill-color);\n",
              "    border-color: transparent;\n",
              "    border-bottom-color: var(--fill-color);\n",
              "    animation:\n",
              "      spin 1s steps(1) infinite;\n",
              "  }\n",
              "\n",
              "  @keyframes spin {\n",
              "    0% {\n",
              "      border-color: transparent;\n",
              "      border-bottom-color: var(--fill-color);\n",
              "      border-left-color: var(--fill-color);\n",
              "    }\n",
              "    20% {\n",
              "      border-color: transparent;\n",
              "      border-left-color: var(--fill-color);\n",
              "      border-top-color: var(--fill-color);\n",
              "    }\n",
              "    30% {\n",
              "      border-color: transparent;\n",
              "      border-left-color: var(--fill-color);\n",
              "      border-top-color: var(--fill-color);\n",
              "      border-right-color: var(--fill-color);\n",
              "    }\n",
              "    40% {\n",
              "      border-color: transparent;\n",
              "      border-right-color: var(--fill-color);\n",
              "      border-top-color: var(--fill-color);\n",
              "    }\n",
              "    60% {\n",
              "      border-color: transparent;\n",
              "      border-right-color: var(--fill-color);\n",
              "    }\n",
              "    80% {\n",
              "      border-color: transparent;\n",
              "      border-right-color: var(--fill-color);\n",
              "      border-bottom-color: var(--fill-color);\n",
              "    }\n",
              "    90% {\n",
              "      border-color: transparent;\n",
              "      border-bottom-color: var(--fill-color);\n",
              "    }\n",
              "  }\n",
              "</style>\n",
              "\n",
              "  <script>\n",
              "    async function quickchart(key) {\n",
              "      const quickchartButtonEl =\n",
              "        document.querySelector('#' + key + ' button');\n",
              "      quickchartButtonEl.disabled = true;  // To prevent multiple clicks.\n",
              "      quickchartButtonEl.classList.add('colab-df-spinner');\n",
              "      try {\n",
              "        const charts = await google.colab.kernel.invokeFunction(\n",
              "            'suggestCharts', [key], {});\n",
              "      } catch (error) {\n",
              "        console.error('Error during call to suggestCharts:', error);\n",
              "      }\n",
              "      quickchartButtonEl.classList.remove('colab-df-spinner');\n",
              "      quickchartButtonEl.classList.add('colab-df-quickchart-complete');\n",
              "    }\n",
              "    (() => {\n",
              "      let quickchartButtonEl =\n",
              "        document.querySelector('#df-e14cdc25-7482-4930-b68d-2d9ff5e58a25 button');\n",
              "      quickchartButtonEl.style.display =\n",
              "        google.colab.kernel.accessAllowed ? 'block' : 'none';\n",
              "    })();\n",
              "  </script>\n",
              "</div>\n",
              "\n",
              "    </div>\n",
              "  </div>\n"
            ],
            "application/vnd.google.colaboratory.intrinsic+json": {
              "type": "dataframe",
              "summary": "{\n  \"name\": \"tab_info\",\n  \"rows\": 26,\n  \"fields\": [\n    {\n      \"column\": \"column type\",\n      \"properties\": {\n        \"dtype\": \"category\",\n        \"num_unique_values\": 3,\n        \"samples\": [\n          \"int64\",\n          \"object\",\n          \"float64\"\n        ],\n        \"semantic_type\": \"\",\n        \"description\": \"\"\n      }\n    },\n    {\n      \"column\": \"null values\",\n      \"properties\": {\n        \"dtype\": \"date\",\n        \"min\": 0,\n        \"max\": 3091,\n        \"num_unique_values\": 12,\n        \"samples\": [\n          63,\n          53,\n          0\n        ],\n        \"semantic_type\": \"\",\n        \"description\": \"\"\n      }\n    },\n    {\n      \"column\": \"null values (%)\",\n      \"properties\": {\n        \"dtype\": \"date\",\n        \"min\": 0.0,\n        \"max\": 64.35561107641058,\n        \"num_unique_values\": 12,\n        \"samples\": [\n          1.311680199875078,\n          1.1034769935457007,\n          0.0\n        ],\n        \"semantic_type\": \"\",\n        \"description\": \"\"\n      }\n    }\n  ]\n}"
            }
          },
          "metadata": {},
          "execution_count": 7
        }
      ]
    },
    {
      "cell_type": "code",
      "source": [
        "df_initial.shape"
      ],
      "metadata": {
        "colab": {
          "base_uri": "https://localhost:8080/"
        },
        "id": "YsinGtnujNm8",
        "outputId": "0918f10a-2003-4658-d408-696a41816c62"
      },
      "execution_count": null,
      "outputs": [
        {
          "output_type": "execute_result",
          "data": {
            "text/plain": [
              "(4803, 26)"
            ]
          },
          "metadata": {},
          "execution_count": 8
        }
      ]
    },
    {
      "cell_type": "markdown",
      "source": [
        "# **4- Data Cleaning**"
      ],
      "metadata": {
        "id": "KlYk5fsBkjj2"
      }
    },
    {
      "cell_type": "code",
      "source": [
        "def remove_outliers(df, col, perc):\n",
        "  q = df[col].quantile(perc)\n",
        "  if perc > .5:\n",
        "    df = df[df[col] < q]\n",
        "  else:\n",
        "    df = df[df[col] > q]\n",
        "  return df"
      ],
      "metadata": {
        "id": "jCeVTxOPmilb"
      },
      "execution_count": null,
      "outputs": []
    },
    {
      "cell_type": "code",
      "source": [
        "def count_word(df, ref_col, liste):\n",
        "    \"\"\"\n",
        "    This function deals with categorical columns with multi-categories\n",
        "    mean genres, keywords and companies columns. It returns a list of\n",
        "    lists in the example form of:\n",
        "    >>> [['category_1', occurances],\n",
        "        ['category_2', occurances]]\n",
        "    \"\"\"\n",
        "    keyword_count = dict()\n",
        "    for s in liste: keyword_count[s] = 0\n",
        "    for liste_keywords in df[ref_col].str.split('|'):\n",
        "        if type(liste_keywords) == float and pd.isnull(liste_keywords): continue\n",
        "        for s in [s for s in liste_keywords if s in liste]:\n",
        "            if pd.notnull(s): keyword_count[s] += 1\n",
        "    #______________________________________________________________________\n",
        "    # convert the dictionary in a list to sort the keywords by frequency\n",
        "    keyword_occurences = []\n",
        "    for k,v in keyword_count.items():\n",
        "        keyword_occurences.append([k,v])\n",
        "    keyword_occurences.sort(key = lambda x:x[1], reverse = True)\n",
        "    return keyword_occurences"
      ],
      "metadata": {
        "id": "sXdsedp-nQN2"
      },
      "execution_count": null,
      "outputs": []
    },
    {
      "cell_type": "code",
      "source": [
        "def generate_categorical_columns(df: pd.DataFrame,\n",
        "                                 ref_col: str,\n",
        "                                 col_name: str,\n",
        "                                 keyword: str) -> pd.DataFrame:\n",
        "  \"\"\"\n",
        "  Generates new categorical columns for each distinct categories\n",
        "  in a complex column like genre in which there are plenty of\n",
        "  categories dixtinguished by | or some other signs\n",
        "  \"\"\"\n",
        "  df[col_name] = df[ref_col].apply(lambda x: 1 if keyword in x else 0)\n",
        "  return df"
      ],
      "metadata": {
        "id": "ndcJCuKSovgU"
      },
      "execution_count": null,
      "outputs": []
    },
    {
      "cell_type": "code",
      "source": [
        "def superstar_count(*input_list):\n",
        "  count = 0\n",
        "  for el in input_list:\n",
        "    if el in super_stars:\n",
        "      count += 1\n",
        "  return count"
      ],
      "metadata": {
        "id": "HS7k8PgQzPkd"
      },
      "execution_count": null,
      "outputs": []
    },
    {
      "cell_type": "code",
      "source": [
        "# @title\n",
        "super_stars = ['Robert De Niro', 'Jack Nicholson', 'Marlon Brando', 'Denzel Washington', 'Katharine Hepburn', 'Humphrey Bogart', 'Meryl Streep', 'Daniel Day-Lewis', 'Sidney Poitier', 'Clark Gable', 'Ingrid Bergman', 'Tom Hanks', 'Elizabeth Taylor', 'Bette Davis', 'Gregory Peck', 'Leonardo DiCaprio', 'Cate Blanchett', 'Audrey Hepburn', 'Spencer Tracy', 'Kate Winslet', 'Shah Rukh Khan', 'Viola Davis', 'Sophia Loren', 'Cary Grant', 'Vivien Leigh', 'Marilyn Monroe', 'Laurence Olivier', 'James Stewart', 'Steve McQueen', 'Diane Keaton', 'Julia Roberts', 'Jodie Foster', 'Judy Garland', 'Morgan Freeman', 'Paul Newman', 'Henry Fonda', 'Catherine Deneuve', 'Grace Kelly', 'Helen Mirren', 'James Cagney', 'Angela Bassett', 'Johnny Depp', 'Greta Garbo', 'Olivia de Havilland', 'Charles Chaplin', 'Setsuko Hara', 'Julie Andrews', 'Montgomery Clift', 'Isabelle Huppert', 'Al Pacino', 'Rita Hayworth', 'Halle Berry', 'James Dean', 'Kirk Douglas', 'Natalie Wood', 'Marcello Mastroianni', 'Joan Crawford', 'Harrison Ford', 'Susan Sarandon', 'Gene Kelly', 'Glenn Close', 'Joan Fontaine', 'Julianne Moore', 'Will Smith', 'Bruce Lee', 'Regina King', 'Angelina Jolie', 'John Wayne', 'Jane Fonda', 'Charlton Heston', 'Gary Cooper', 'Anthony Hopkins', 'Liv Ullmann', 'Natalie Portman', 'Gérard Depardieu', 'Forest Whitaker', 'Sandra Bullock', 'Deborah Kerr', 'Toshirô Mifune', 'Dustin Hoffman', 'Mohanlal', 'Emma Thompson', 'Tom Cruise', 'Michelle Pfeiffer', 'Faye Dunaway', 'Samuel L. Jackson', \"Peter O'Toole\", 'Heath Ledger', 'Penélope Cruz', 'Nicole Kidman', 'Chadwick Boseman', 'Antonio Banderas', 'Sigourney Weaver', 'Salma Hayek', 'Don Cheadle', 'Frances McDormand', 'Kathy Bates', 'Omar Sharif', 'Amy Adams', 'Joaquin Phoenix', 'Jeff Bridges', 'Ben Kingsley', 'Tommy Lee Jones', 'Robert Redford', 'Jack Lemmon', 'Christopher Plummer', 'George C. Scott', 'Robin Williams', 'Christopher Walken', 'Philip Seymour Hoffman', 'George Clooney', 'Gene Hackman', 'Bruce Willis', 'Sean Connery', 'Ian McKellen', 'Russell Crowe', 'Bill Murray', 'Nicolas Cage', 'Joe Pesci', 'Brad Pitt', 'Kevin Costner', 'Donald Sutherland', 'Clint Eastwood', 'Michael Douglas', 'Robert Downey Jr.', 'Ava Gardner', 'Sally Field', 'Doris Day', 'Shirley MacLaine', 'Holly Hunter', 'Hilary Swank', 'Claudette Colbert', 'Diane Lane', 'Jessica Lange', 'Gloria Swanson', 'Lauren Bacall', 'Lucy Liu', 'Norma Shearer', 'Bette Midler', 'Mary Tyler Moore', 'Anna Magnani', 'Judi Dench', 'Sharon Stone', 'Kim Basinger', 'Glenda Jackson', 'Donna Reed', 'Demi Moore', 'Anne Hathaway', 'Liza Minnelli', 'Geena Davis', 'Peter Sellers', 'Woody Allen', 'Mel Gibson', 'Jim Carrey', 'Mark Wahlberg', 'Steve Martin', 'Javier Bardem', 'Christoph Waltz', 'Tim Robbins', 'Arnold Schwarzenegger', 'Sylvester Stallone', 'Viggo Mortensen', 'Christopher Lee', 'Geoffrey Rush', 'Alec Guinness', 'Richard Burton', 'Alec Baldwin', 'James Caan', 'Chiwetel Ejiofor', 'Mads Mikkelsen', 'Ben Stiller', 'Willem Dafoe', 'Ed Harris', 'Harvey Keitel', 'Jon Voight', 'Drew Barrymore', 'Winona Ryder', 'Kathleen Turner', 'Uma Thurman', 'Rene Russo', 'Whoopi Goldberg', 'Annette Bening', 'Maggie Smith', 'Barbra Streisand', 'Jennifer Lawrence', 'Joanne Woodward', 'Mercedes McCambridge', 'Anjelica Huston', 'Dianne Wiest', 'Goldie Hawn', 'Claudia Cardinale', 'Gwyneth Paltrow', 'Charlize Theron', 'Debra Winger', 'Marion Cotillard', 'Christina Ricci', 'Juliette Binoche', 'Daryl Hannah', 'Shirley Booth', 'Reese Witherspoon', 'Benicio Del Toro', 'Kevin Bacon', 'Patrick Swayze', 'Michael Caine', 'Robert Duvall', 'Burt Lancaster', 'Robert Mitchum', 'Colin Farrell', 'William Holden', 'Edward G. Robinson', 'William Powell', 'Jared Leto', 'Errol Flynn', 'Groucho Marx', 'James Mason', 'Buster Keaton', 'Orson Welles', 'Fred Astaire', 'Bradley Cooper', 'Gary Oldman', 'Jude Law', 'Paul Giamatti', 'Liam Neeson', 'Matt Damon', 'Michael Fassbender', 'Carol Burnett', 'Jessica Tandy', 'Helen Hunt', 'Patricia Arquette', 'Carmen Miranda', 'Kate Hudson', 'Catherine Zeta-Jones', 'Cameron Diaz', 'Debbie Reynolds', 'Ellen Burstyn', \"Maureen O'Hara\", 'Myrna Loy', 'Lena Headey', 'Toni Collette', 'Laura Linney', 'Marlene Dietrich', 'Carole Lombard', 'Jean Arthur', 'Jean Harlow', 'Ginger Rogers', 'Mary Pickford', 'Mae West', 'Gillian Anderson', 'Emma Watson', 'Meg Ryan', 'Alan Arkin', 'Kurt Russell', 'Jake Gyllenhaal', 'Ryan Gosling', 'Colin Firth', 'Jamie Foxx', 'Adrien Brody', 'Roberto Benigni', 'Jeremy Irons', 'F. Murray Abraham', 'Richard Dreyfuss', 'Peter Finch', 'Art Carney', 'Cliff Robertson', 'Lee Marvin', 'Rex Harrison', 'Anthony Quinn', 'Maximilian Schell', 'Tom Hardy', 'David Niven', 'William Hurt', 'Yul Brynner', 'Ernest Borgnine', 'Benedict Cumberbatch', 'Rod Steiger', 'Chloë Grace Moretz', 'Anna Kendrick', 'Emily Watson', 'Helena Bonham Carter', 'Keira Knightley', 'Alexis Thorpe', 'Marion Davies', 'Scarlett Johansson', 'Dakota Fanning', 'Jennifer Aniston', 'Jennifer Connelly', 'Rachel McAdams', 'Carey Mulligan', 'Mila Kunis', 'Amanda Seyfried', 'Jennifer Lopez', 'Neve Campbell', 'Fairuza Balk', 'Jessica Alba', 'Kristen Stewart', 'Julie Walters', 'Rooney Mara', 'Jamie Lee Curtis', 'Emma Stone', 'Kirsten Dunst', 'José Ferrer', 'Broderick Crawford', 'Ronald Colman', 'Fredric March', 'Ray Milland', 'Bing Crosby', 'Paul Lukas', 'Robert Donat', 'Paul Muni', 'Victor McLaglen', 'Charles Laughton', 'Wallace Beery', 'Lionel Barrymore', 'Jeff Goldblum', 'Chris Hemsworth', 'Warner Baxter', 'Emil Jannings', 'Chris Cooper', 'Jim Broadbent', 'James Coburn', 'Cuba Gooding Jr.', 'Martin Landau', 'Jack Palance', 'Kevin Kline', 'Don Ameche', 'Kate Beckinsale', 'Zooey Deschanel', 'Michelle Williams', 'Milla Jovovich', 'Selena Gomez', 'Rachel Weisz', 'Kristen Bell', 'Katherine Heigl', 'Liv Tyler', 'Jessica Chastain', 'Megan Fox', 'Betty White', 'Geraldine Page', 'Eliza Dushku', 'Robin Wright', 'Leighton Meester', 'Jennifer Jones', 'Shirley Temple', 'Julia Louis-Dreyfus', 'Olivia Thirlby', 'Cher', 'Sissy Spacek', 'Louise Fletcher', 'Julie Christie', 'Patricia Neal', 'Haing S. Ngor', 'Louis Gossett Jr.', 'John Gielgud', 'Timothy Hutton', 'Melvyn Douglas', 'Jason Robards', 'George Burns', 'Christian Bale', 'Ethan Hawke', 'Ben Johnson', 'John Mills', 'Jack Albertson', 'Sean Penn', 'George Kennedy', 'Walter Matthau', 'Martin Balsam', 'Peter Ustinov', 'Ed Begley', 'George Chakiris', 'Hugh Griffith', 'Burl Ives', 'Red Buttons', \"Edmond O'Brien\", 'Chris Pratt', 'Frank Sinatra', 'Anne Bancroft', 'Kim Novak', 'Simone Signoret', 'Elliot Page', 'Angela Lansbury', 'Judy Holliday', 'Loretta Young', 'Shirley Jones', 'Vera Farmiga', 'Helen Hayes', 'Marie Dressler', 'Janet Gaynor', \"Lupita Nyong'o\", 'Octavia Spencer', 'Melissa Leo', \"Mo'Nique\", 'Marlee Matlin', 'Tilda Swinton', 'Jennifer Hudson', 'Renée Zellweger', 'Marcia Gay Harden', 'Anna Paquin', 'Marisa Tomei', 'Mercedes Ruehl', 'Brenda Fricker', 'Jean Reno', 'George Sanders', 'Dean Jagger', 'Walter Huston', 'Edmund Gwenn', 'Harold Russell', 'Hugh Grant', 'Barry Fitzgerald', 'Charles Coburn', 'Van Heflin', 'Donald Crisp', 'Thomas Mitchell', 'Walter Brennan', 'Joseph Schildkraut', 'Keanu Reeves', 'Channing Tatum', 'Hugh Jackman', 'Dwayne Johnson', 'Adam Sandler', 'Daniel Radcliffe', 'Daniel Craig', 'Henry Cavill', 'Vin Diesel', 'Ben Affleck', 'Chris Pine', 'Olympia Dukakis', 'Peggy Ashcroft', 'Linda Hunt', 'Maureen Stapleton', 'Mary Steenburgen', 'Beatrice Straight', 'Vanessa Redgrave', 'Lee Grant', 'Eileen Heckart', 'Cloris Leachman', 'Ruth Gordon', 'Estelle Parsons', 'Sandy Dennis', 'Shelley Winters', 'Maggie Gyllenhaal', 'Katie Holmes', 'Patty Duke', 'Rita Moreno', 'Wendy Hiller', 'Miyoshi Umeki', 'Dorothy Malone', 'Jo Van Fleet', 'Eva Marie Saint', 'Gloria Grahame', 'Kim Hunter', 'Lee J. Cobb', 'Andrew Garfield', 'John Cazale', 'Jeremy Renner', 'Steve Carell', 'Jean Dujardin', 'Chris Evans', 'James Franco', 'Zach Galifianakis', 'Will Ferrell', 'Shia LaBeouf', 'Seth Rogen', 'Joseph Gordon-Levitt', 'Ryan Reynolds', 'Paul Rudd', 'Jason Segel', 'Jason Statham', 'Dick Van Dyke', 'Jesse Eisenberg', 'Owen Wilson', 'Jason Bateman', 'Tyler Perry', 'Liam Hemsworth', 'William Shatner', 'Gene Wilder', 'Thora Birch', 'Claire Trevor', 'Celeste Holm', 'Anne Baxter', 'Queen Latifah', 'Ethel Barrymore', 'Rosario Dawson', 'Teresa Wright', 'Mary Astor', 'Jane Darwell', 'Alicia Vikander', 'Mia Wasikowska', 'Abigail Breslin', 'Gale Sondergaard', 'Melissa McCarthy', 'Tina Fey', 'Zoe Saldana', 'Elisabeth Moss', 'Adrianne Palicki', 'Jennifer Garner', 'Kristen Wiig', 'June Squibb', 'Sally Hawkins', 'Kaley Cuoco', 'Naomi Watts', 'Robert Pattinson', 'Charlie Hunnam', 'Nicholas Hoult', 'Aaron Taylor-Johnson', 'Bryan Cranston', 'Gerard Butler', 'Paul Walker', 'Karl Urban', 'Logan Lerman', 'Dave Franco', 'Tom Hiddleston', 'Peter Dinklage', 'Taylor Kitsch', 'Edward Norton', 'Guy Pearce', 'Mark Ruffalo', 'Mickey Rourke', 'Frank Langella', 'Eddie Redmayne', 'David Strathairn', 'Terrence Howard', 'Ralph Fiennes', 'Tom Wilkinson', 'Richard Farnsworth', 'Nick Nolte', 'AnnaSophia Robb', 'Gemma Arterton', 'Olivia Wilde', 'Isla Fisher', 'Shailene Woodley', 'Rebel Wilson', 'Emma Roberts', 'Amber Heard', 'Teresa Palmer', 'Saoirse Ronan', 'Elizabeth Banks', 'Ida Lupino', 'Natalie Dormer', 'Brittany Snow', 'Kate Mara', 'Julianne Hough', 'Lily Collins', 'Cobie Smulders', 'Alice Eve', 'Jamie Chung', 'Noomi Rapace', 'Blake Lively', 'Maggie Grace', 'Jessica Biel', 'Eva Green', 'Peter Fonda', 'Woody Harrelson', 'Billy Bob Thornton', 'Idris Elba', 'Nigel Hawthorne', 'Laurence Fishburne', 'Stephen Rea', 'Warren Beatty', 'Richard Harris', 'John Cusack', 'Kenneth Branagh', 'Edward James Olmos', 'Max von Sydow', 'Bruce Dern', 'Bob Hoskins', 'James Woods', 'John Hawkes', 'James Garner', 'Sam Waterston', 'Tom Hulce', 'Albert Finney', 'Tom Conti', 'Tom Courtenay', 'Dudley Moore', 'John Hurt', 'Kat Dennings', 'Priyanka Chopra Jonas', 'Emmanuelle Riva', 'Greta Gerwig', 'Brie Larson', 'Jessica Lucas', 'Maria Falconetti', 'Greer Garson', 'Rosalind Russell', 'Raquel Welch', 'Linda Fiorentino', 'Gabourey Sidibe', 'Judy Davis', 'Mia Farrow', 'Audrey Tautou', 'Jeanne Moreau', 'Jane Wyman', 'Gena Rowlands', 'Lesley Manville', 'Elizabeth Olsen', 'Nastassja Kinski', 'Mélanie Laurent', 'Whitney Houston', 'Felicity Huffman', 'Imelda Staunton', 'Oscar Isaac', 'Jon Heder', 'Miles Teller', 'Daniel Brühl', 'James Gandolfini', 'Michael B. Jordan', 'Anthony Perkins', 'David Thewlis', 'Klaus Kinski', 'Malcolm McDowell', 'Ray Winstone', 'Jean-Paul Belmondo', 'Andy Serkis', 'Matthew Broderick', 'Dennis Hopper', 'Michael Rooker', 'Vincent Gallo', 'Kevin Spacey', 'Vincent Cassel', 'J.K. Simmons', 'Boris Karloff', 'Peter Lorre', 'Matthew McConaughey', 'Paddy Considine', 'Ryan Phillippe', 'Kerry Washington', 'Carrie-Anne Moss', 'Janet Leigh', 'Catalina Sandino Moreno', 'Samantha Morton', 'Keisha Castle-Hughes', 'Barbara Stanwyck', 'Joan Allen', 'Janet McTeer', 'Fernanda Montenegro', 'Kristin Scott Thomas', 'Brenda Blethyn', 'Elisabeth Shue', 'Miranda Richardson', 'Stockard Channing', 'Luise Rainer', 'Mary McDonnell', 'Lucille Ball', 'Laura Dern', 'Pauline Collins', 'Isabelle Adjani', 'Melanie Griffith', 'Sally Kirkland', 'Jane Alexander', 'Marsha Mason', 'Freddie Highmore', 'Michael J. Fox', 'John Travolta', 'Chow Yun-Fat', 'Seth MacFarlane', 'Jet Li', 'John Houseman', 'Chuck Norris', 'Jean-Claude Van Damme', 'Sam Rockwell', 'Takashi Shimura', 'Richard E. Grant', 'Leslie Nielsen', 'Simon Pegg', 'John Malkovich', 'Michael Shannon', 'Martin Sheen', 'Christopher Guest', 'Alan Rickman', 'Jackie Earle Haley', 'Gig Young', 'James Spader', 'Eric Bana', 'Romain Duris', 'Robert Shaw', 'Jacki Weaver', 'Bérénice Bejo', 'Hailee Steinfeld', 'Jennifer Jason Leigh', 'Kathleen Quinlan', 'Taraji P. Henson', 'Amy Ryan', 'Ruby Dee', 'Jill Clayburgh', 'Adriana Barraza', 'Rinko Kikuchi', 'Catherine Keener', 'Charlotte Rampling', 'Sophie Okonedo', 'Patricia Clarkson', 'Shohreh Aghdashloo', 'Lindsay Lohan', 'Michelle Trachtenberg', 'Chloë Sevigny', 'Lynn Redgrave', 'Rachel Griffiths', 'Margot Robbie', 'Lili Taylor', 'Robin Weigert', 'Lake Bell', 'Claude Rains', 'Steve Buscemi', 'John Rhys-Davies', 'Jean-Louis Trintignant', 'Joseph Cotten', 'Barry Pepper', 'Erich von Stroheim', 'Patrick Wilson', 'Christopher Lloyd', 'Ben Foster', 'Joel McCrea', 'Choi Min-sik', 'Ewan McGregor', 'Gael García Bernal', 'Bruno Ganz', 'Sean Astin', 'Irrfan Khan', 'Michael C. Hall', 'Roy Scheider', 'Casey Affleck', 'Gary Busey', 'Norman Reedus', 'Jeff Daniels', 'Stanley Tucci', 'Kiefer Sutherland', 'Michelle Yeoh', 'Léa Seydoux', 'Dakota Johnson', 'Julie Delpy', 'Linda Hamilton', 'Carrie Fisher', 'Pam Grier', 'Björk', 'Emily Browning', 'Juliette Lewis', 'Sarah Jessica Parker', 'Piper Laurie', 'Miley Cyrus', 'Lily Tomlin', 'Jane Seymour', 'Gloria Stuart', 'Talia Shire', 'Gal Gadot', 'Sue Lyon', 'Olivia Newton-John', 'Minnie Driver', 'Teri Garr', 'Keri Russell', 'Jean Seberg', 'Sarah Polley', 'Josh Brolin', 'Hal Holbrook', 'Djimon Hounsou', 'Matt Dillon', 'Alan Alda', 'Thomas Haden Church', 'Clive Owen', 'Ken Watanabe', 'Suraj Sharma', 'John C. Reilly', 'Michael Clarke Duncan', 'Haley Joel Osment', 'Greg Kinnear', 'Burt Reynolds', 'Robert Forster', 'Jason Schwartzman', 'William H. Macy', 'Armin Mueller-Stahl', 'Tim Roth', 'James Cromwell', 'Chazz Palminteri', 'Gary Sinise', 'Paul Scofield', 'Pete Postlethwaite', 'Hugo Weaving', 'Jada Pinkett Smith', \"Tatum O'Neal\", 'Anna Faris', 'Hattie McDaniel', 'Famke Janssen', 'Rosamund Pike', 'Bonnie Hunt', 'Leslie Mann', 'Mindy Kaling', 'Thandiwe Newton', 'Amy Poehler', 'Amanda Peet', 'Julia Stiles', 'Maria Bello', 'Eva Mendes', 'Emily Blunt', 'Rose Byrne', 'Ashley Judd', 'Emilia Clarke', 'Christina Applegate', 'Nia Long', 'Felicity Jones', 'Téa Leoni', 'Alexandra Daddario', 'Jena Malone', 'Richard Gere', 'Nick Frost', 'Ray Liotta', 'Chris Rock', 'Jon Hamm', 'Neil Patrick Harris', 'Charlie Sheen', 'Mark Rylance', 'Andy Garcia', 'Michael Lerner', 'Graham Greene', 'Bruce Davison', 'Dan Aykroyd', 'Danny Aiello', 'River Phoenix', 'Dean Stockwell', 'Billy Crystal', 'John Goodman', 'Orlando Bloom', 'Stellan Skarsgård', 'Alexander Skarsgård', 'Mike Myers', 'Tyrese Gibson', 'Elijah Wood', 'Danny DeVito', 'Susan Hayward', 'Michelle Rodriguez', 'Sarah Michelle Gellar', 'Sandra Oh', 'Margot Kidder', 'Beyoncé', 'Rebecca Hall', 'Piper Perabo', 'Courteney Cox', 'Parker Posey', 'Paula Patton', 'Michelle Monaghan', 'Claire Danes', 'Allison Janney', 'Kate Bosworth', 'Evan Rachel Wood', 'Mira Sorvino', 'Ziyi Zhang', 'Amanda Bynes', 'Lisa Kudrow', 'Brit Marling', 'Cynthia Erivo', 'Sofía Vergara', 'Mandy Moore', 'Virginia Madsen', 'James Marsden', 'Tim Allen', 'Giovanni Ribisi', 'Rutger Hauer', 'Vince Vaughn', 'Brian Cox', 'Dennis Quaid', 'John Leguizamo', 'Michael Keaton', 'Billy Burke', 'Brendan Gleeson', 'Charles Bronson', 'Jonathan Pryce', 'Tobey Maguire', 'Michael Sheen', 'Justin Long', 'Jack Black', 'Mel Brooks', 'Pierce Brosnan', 'Sean Bean', 'Mahershala Ali', 'Josh Duhamel', 'Eddie Murphy', 'Jon Favreau', 'Danny Glover', 'Freida Pinto', 'Hilary Duff', 'Mary Elizabeth Winstead', 'Jennifer Coolidge', 'Andrea Riseborough', 'Molly Ringwald', 'January Jones', 'Maya Rudolph', 'Sophie Marceau', 'Franka Potente', 'Claire Foy', 'Rashida Jones', 'Alicia Silverstone', 'Lillian Gish', 'Evangeline Lilly', 'Olivia Colman', 'Mireille Enos', 'Jennifer Love Hewitt', 'Emmy Rossum', 'Joey King', 'Ginnifer Goodwin', 'Christine Taylor', 'Vanessa Hudgens', 'Abbie Cornish', 'Florence Pugh', 'Ian Holm', 'Nathan Lane', 'Cary Elwes', 'Martin Lawrence', 'Steve Coogan', 'Sacha Baron Cohen', 'Jeffrey Wright', 'Jackie Chan', 'Aaron Eckhart', 'Sam Worthington', 'Jack Davenport', 'Alfred Molina', 'Tim Curry', 'Mark Hamill', 'Brendan Fraser', 'Ice Cube', 'Liev Schreiber', 'Ed Helms', 'Val Kilmer', 'Russell Brand', 'Craig T. Nelson', 'Bernie Mac', 'Patrick Stewart', 'Seth Green', 'Ashton Kutcher', 'Randy Quaid', 'Wesley Snipes', 'David Oyelowo', 'Mark Strong', 'Rob Schneider', 'Jay Baruchel', 'Hayden Christensen', 'Ray Stevenson', 'Paul Bettany', 'Hugh Laurie', 'Chris Tucker', 'John Candy', 'Richard Attenborough', \"Chris O'Donnell\", 'Benjamin Bratt', 'Common', 'Marlon Wayans', 'Albert Brooks', 'Aaron Paul', 'Macaulay Culkin', 'Sam Elliott', 'Taron Egerton', 'Jim Caviezel', 'Elvis Presley', 'Jonah Hill', 'Sung Kang', 'Jason Sudeikis', 'Josh Hartnett', 'Cillian Murphy', 'Billy Crudup', 'Anthony Mackie', 'John Barrymore', 'Timothy Olyphant', 'Josh Gad', 'Billy Zane', 'Luke Wilson', 'Peter Sarsgaard', 'Rhys Ifans', 'Topher Grace', 'Kevin Hart', 'Paul Dano', 'Bill Hader', 'Rob Lowe', 'Mel Blanc', 'David Spade', 'Rob Riggle', 'Lance Henriksen', 'Richard Jenkins', 'Emilio Estevez', 'Michael Ealy', 'Jamie Bell', 'Troy Baker', 'Danny McBride', 'Jonathan Rhys Meyers', 'Michael Cera', 'Bill Paxton', 'Ioan Gruffudd', 'Andrew Lincoln', 'Ezra Miller', 'Bill Pullman', 'Craig Robinson', 'Charlie Day', 'Andy Samberg', 'Garrett Hedlund', 'Cam Gigandet', 'John Krasinski', 'Kevin James', 'Christopher Reeve', 'James McAvoy', 'Rufus Sewell', 'Adam Driver', 'Ned Beatty', 'John Cleese', 'John Turturro', 'Jerry Lewis']"
      ],
      "metadata": {
        "cellView": "form",
        "id": "p0BvoI8l_07h"
      },
      "execution_count": null,
      "outputs": []
    },
    {
      "cell_type": "code",
      "source": [
        "# 1- Dealing with nans and not informative categories\n",
        "df_remove_nan = df_initial.copy()\n",
        "df_remove_nan['release_date'] = pd.to_datetime(df_remove_nan['release_date'])\n",
        "# df_remove_nan['release_year'] = df_remove_nan['release_date'].apply(lambda x: x.year)\n",
        "df_remove_nan['release_month'] = df_remove_nan['release_date'].apply(lambda x: x.month)\n",
        "df_remove_nan.drop(['tagline', 'homepage', 'overview', 'status', 'original_title',\n",
        "                    'title_year', 'release_date', 'id', 'production_countries',\n",
        "                    'spoken_languages', 'language', 'production_companies',\n",
        "                    'plot_keywords', 'movie_title', 'director_name', 'popularity',\n",
        "                    'vote_average', 'num_voted_users'], axis=1, inplace=True)\n",
        "df_remove_nan.dropna(inplace=True)\n",
        "\n",
        "# 2- Removing outliers\n",
        "numerical_columns = ['budget', 'duration']\n",
        "categorical_columns = ['genres', 'country', 'release_month']\n",
        "df_remove_outliers = df_remove_nan.copy()\n",
        "print(f'df shape before removing outliers: {df_remove_outliers.shape}')\n",
        "for col in numerical_columns:\n",
        "    df_remove_outliers = remove_outliers(df_remove_outliers, col, .99)\n",
        "print(f'df shape after removing outliers: {df_remove_outliers.shape}')\n",
        "\n",
        "# 3- Dealing with categorical columns\n",
        "df_categorical = df_remove_outliers.copy()\n",
        "df_categorical['release_month'] = df_categorical['release_month'].apply(lambda x: 'first_half' if x <= 6 else 'second_half')\n",
        "\n",
        "# 3-1- categorical columns with multi-categories; genres, keywords and companies\n",
        "set_keywords = set()\n",
        "for liste_keywords in df_categorical['genres'].str.split('|').values:\n",
        "    if isinstance(liste_keywords, float): continue  # only happen if liste_keywords = NaN\n",
        "    set_keywords = set_keywords.union(liste_keywords)\n",
        "\n",
        "keyword_occurences = count_word(df_categorical, 'genres', set_keywords)\n",
        "\n",
        "df_categorical['genres'] = df_categorical['genres'].apply(lambda x: np.nan if x=='' else x)\n",
        "df_categorical.dropna(subset=[\"genres\"], inplace=True)\n",
        "\n",
        "for genre in keyword_occurences:\n",
        "  genre_labels = genre[0]\n",
        "  occurances = genre[1]\n",
        "  if occurances > 500:\n",
        "    col_name = 'genre_' + genre_labels.replace(' ', '_')\n",
        "    df_categorical = generate_categorical_columns(df=df_categorical,\n",
        "                                          ref_col='genres',\n",
        "                                          col_name=col_name,\n",
        "                                          keyword=genre_labels)\n",
        "df_categorical.drop('genres', axis=1, inplace=True)\n",
        "df_cleaned = df_categorical.copy()\n",
        "df_cleaned['super_stars'] = df_cleaned[['actor_1_name',\n",
        "                                        'actor_2_name',\n",
        "                                        'actor_3_name']].apply(lambda x: superstar_count(*x),\n",
        "                                                               axis=1)\n",
        "df_cleaned['country'] = df_cleaned['country'].apply(lambda x: 'USA' if x == 'United States of America' else 'Not USA')\n",
        "\n",
        "df_cleaned.drop(['actor_1_name', 'actor_2_name',\n",
        "                 'actor_3_name', ], axis=1, inplace=True)\n",
        "df_cleaned.shape"
      ],
      "metadata": {
        "colab": {
          "base_uri": "https://localhost:8080/"
        },
        "id": "Izwz9VTIyZxP",
        "outputId": "29bdf062-6199-41d1-f724-3179bdfda9b2"
      },
      "execution_count": null,
      "outputs": [
        {
          "output_type": "stream",
          "name": "stdout",
          "text": [
            "df shape before removing outliers: (4573, 9)\n",
            "df shape after removing outliers: (4479, 9)\n"
          ]
        },
        {
          "output_type": "execute_result",
          "data": {
            "text/plain": [
              "(4474, 14)"
            ]
          },
          "metadata": {},
          "execution_count": 14
        }
      ]
    },
    {
      "cell_type": "markdown",
      "source": [
        "# **Modeling**"
      ],
      "metadata": {
        "id": "VaGZ9JZnFYH3"
      }
    },
    {
      "cell_type": "code",
      "source": [
        "df_cleaned['gross'].hist()"
      ],
      "metadata": {
        "colab": {
          "base_uri": "https://localhost:8080/",
          "height": 470
        },
        "id": "3fruJM1h6I2L",
        "outputId": "e3038973-bad8-4836-8647-1d680c24b38b"
      },
      "execution_count": null,
      "outputs": [
        {
          "output_type": "execute_result",
          "data": {
            "text/plain": [
              "<Axes: >"
            ]
          },
          "metadata": {},
          "execution_count": 23
        },
        {
          "output_type": "display_data",
          "data": {
            "text/plain": [
              "<Figure size 640x480 with 1 Axes>"
            ],
            "image/png": "[encoded data removed]"
          },
          "metadata": {}
        }
      ]
    },
    {
      "cell_type": "markdown",
      "source": [
        "We define the profitable feature as a categorical target for the classification part of this project. <br>\n",
        "Based on the gross histogram, we consider the movie profitable if the gross >= 10000000 and else it would not be profitable."
      ],
      "metadata": {
        "id": "FT6f0eJa5sZY"
      }
    },
    {
      "cell_type": "code",
      "source": [
        "# df_cleaned['profitable'] = df_cleaned['gross'].apply(lambda x: 0 if x == 0 else 1)\n",
        "df_cleaned['profitable'] = df_cleaned['gross'].apply(lambda x: 0 if x < 10000000 else 1)\n",
        "sns.countplot(data=df_cleaned, x='profitable')"
      ],
      "metadata": {
        "id": "RXC5QM2fVmUR",
        "outputId": "ecac2dd9-d829-4a49-eefd-72cb72ae18b6",
        "colab": {
          "base_uri": "https://localhost:8080/",
          "height": 475
        }
      },
      "execution_count": null,
      "outputs": [
        {
          "output_type": "execute_result",
          "data": {
            "text/plain": [
              "<Axes: xlabel='profitable', ylabel='count'>"
            ]
          },
          "metadata": {},
          "execution_count": 15
        },
        {
          "output_type": "display_data",
          "data": {
            "text/plain": [
              "<Figure size 640x480 with 1 Axes>"
            ],
            "image/png": "[encoded data removed]"
          },
          "metadata": {}
        }
      ]
    },
    {
      "cell_type": "code",
      "source": [
        "df_cleaned['profitable'].value_counts()"
      ],
      "metadata": {
        "colab": {
          "base_uri": "https://localhost:8080/"
        },
        "id": "e8xd73Et4lvc",
        "outputId": "94325fb2-6cc2-438a-f2ff-a451b53cf8f6"
      },
      "execution_count": null,
      "outputs": [
        {
          "output_type": "execute_result",
          "data": {
            "text/plain": [
              "1    2650\n",
              "0    1824\n",
              "Name: profitable, dtype: int64"
            ]
          },
          "metadata": {},
          "execution_count": 16
        }
      ]
    },
    {
      "cell_type": "code",
      "source": [
        "final_df = df_cleaned.copy()\n",
        "final_df = pd.get_dummies(final_df, drop_first=True)\n",
        "final_df"
      ],
      "metadata": {
        "colab": {
          "base_uri": "https://localhost:8080/",
          "height": 443
        },
        "id": "pb8o3ftQ66RY",
        "outputId": "5fb68619-a01b-4ab9-e48a-42975afda5a3"
      },
      "execution_count": null,
      "outputs": [
        {
          "output_type": "execute_result",
          "data": {
            "text/plain": [
              "         budget       gross  duration  genre_Drama  genre_Comedy  \\\n",
              "23    180000000   372234864     113.0            0             0   \n",
              "28    150000000  1513528810     124.0            0             0   \n",
              "35    150000000   836297228     150.0            0             0   \n",
              "39    170000000   400062763     125.0            0             0   \n",
              "44    190000000  1506249360     137.0            0             0   \n",
              "...         ...         ...       ...          ...           ...   \n",
              "4795          0           0      98.0            1             0   \n",
              "4796       7000      424760      77.0            1             0   \n",
              "4798     220000     2040920      81.0            0             0   \n",
              "4800          0           0     120.0            1             1   \n",
              "4802          0           0      90.0            0             0   \n",
              "\n",
              "      genre_Thriller  genre_Action  genre_Romance  genre_Adventure  \\\n",
              "23                 0             0              0                1   \n",
              "28                 1             1              0                1   \n",
              "35                 0             1              0                1   \n",
              "39                 0             1              0                1   \n",
              "44                 0             1              0                0   \n",
              "...              ...           ...            ...              ...   \n",
              "4795               0             0              0                0   \n",
              "4796               1             0              0                0   \n",
              "4798               1             1              0                0   \n",
              "4800               0             0              1                0   \n",
              "4802               0             0              0                0   \n",
              "\n",
              "      genre_Crime  genre_Science_Fiction  super_stars  profitable  \\\n",
              "23              0                      0            3           1   \n",
              "28              0                      1            1           1   \n",
              "35              0                      1            2           1   \n",
              "39              0                      1            2           1   \n",
              "44              0                      0            3           1   \n",
              "...           ...                    ...          ...         ...   \n",
              "4795            0                      0            0           0   \n",
              "4796            0                      1            0           0   \n",
              "4798            1                      0            0           0   \n",
              "4800            0                      0            0           0   \n",
              "4802            0                      0            0           0   \n",
              "\n",
              "      country_USA  release_month_second_half  \n",
              "23              0                          1  \n",
              "28              1                          0  \n",
              "35              1                          0  \n",
              "39              1                          1  \n",
              "44              0                          0  \n",
              "...           ...                        ...  \n",
              "4795            1                          1  \n",
              "4796            1                          1  \n",
              "4798            0                          1  \n",
              "4800            1                          1  \n",
              "4802            1                          1  \n",
              "\n",
              "[4474 rows x 15 columns]"
            ],
            "text/html": [
              "\n",
              "  <div id=\"df-089a9fb8-e515-43fd-9e19-988e6a3f8505\" class=\"colab-df-container\">\n",
              "    <div>\n",
              "<style scoped>\n",
              "    .dataframe tbody tr th:only-of-type {\n",
              "        vertical-align: middle;\n",
              "    }\n",
              "\n",
              "    .dataframe tbody tr th {\n",
              "        vertical-align: top;\n",
              "    }\n",
              "\n",
              "    .dataframe thead th {\n",
              "        text-align: right;\n",
              "    }\n",
              "</style>\n",
              "<table border=\"1\" class=\"dataframe\">\n",
              "  <thead>\n",
              "    <tr style=\"text-align: right;\">\n",
              "      <th></th>\n",
              "      <th>budget</th>\n",
              "      <th>gross</th>\n",
              "      <th>duration</th>\n",
              "      <th>genre_Drama</th>\n",
              "      <th>genre_Comedy</th>\n",
              "      <th>genre_Thriller</th>\n",
              "      <th>genre_Action</th>\n",
              "      <th>genre_Romance</th>\n",
              "      <th>genre_Adventure</th>\n",
              "      <th>genre_Crime</th>\n",
              "      <th>genre_Science_Fiction</th>\n",
              "      <th>super_stars</th>\n",
              "      <th>profitable</th>\n",
              "      <th>country_USA</th>\n",
              "      <th>release_month_second_half</th>\n",
              "    </tr>\n",
              "  </thead>\n",
              "  <tbody>\n",
              "    <tr>\n",
              "      <th>23</th>\n",
              "      <td>180000000</td>\n",
              "      <td>372234864</td>\n",
              "      <td>113.0</td>\n",
              "      <td>0</td>\n",
              "      <td>0</td>\n",
              "      <td>0</td>\n",
              "      <td>0</td>\n",
              "      <td>0</td>\n",
              "      <td>1</td>\n",
              "      <td>0</td>\n",
              "      <td>0</td>\n",
              "      <td>3</td>\n",
              "      <td>1</td>\n",
              "      <td>0</td>\n",
              "      <td>1</td>\n",
              "    </tr>\n",
              "    <tr>\n",
              "      <th>28</th>\n",
              "      <td>150000000</td>\n",
              "      <td>1513528810</td>\n",
              "      <td>124.0</td>\n",
              "      <td>0</td>\n",
              "      <td>0</td>\n",
              "      <td>1</td>\n",
              "      <td>1</td>\n",
              "      <td>0</td>\n",
              "      <td>1</td>\n",
              "      <td>0</td>\n",
              "      <td>1</td>\n",
              "      <td>1</td>\n",
              "      <td>1</td>\n",
              "      <td>1</td>\n",
              "      <td>0</td>\n",
              "    </tr>\n",
              "    <tr>\n",
              "      <th>35</th>\n",
              "      <td>150000000</td>\n",
              "      <td>836297228</td>\n",
              "      <td>150.0</td>\n",
              "      <td>0</td>\n",
              "      <td>0</td>\n",
              "      <td>0</td>\n",
              "      <td>1</td>\n",
              "      <td>0</td>\n",
              "      <td>1</td>\n",
              "      <td>0</td>\n",
              "      <td>1</td>\n",
              "      <td>2</td>\n",
              "      <td>1</td>\n",
              "      <td>1</td>\n",
              "      <td>0</td>\n",
              "    </tr>\n",
              "    <tr>\n",
              "      <th>39</th>\n",
              "      <td>170000000</td>\n",
              "      <td>400062763</td>\n",
              "      <td>125.0</td>\n",
              "      <td>0</td>\n",
              "      <td>0</td>\n",
              "      <td>0</td>\n",
              "      <td>1</td>\n",
              "      <td>0</td>\n",
              "      <td>1</td>\n",
              "      <td>0</td>\n",
              "      <td>1</td>\n",
              "      <td>2</td>\n",
              "      <td>1</td>\n",
              "      <td>1</td>\n",
              "      <td>1</td>\n",
              "    </tr>\n",
              "    <tr>\n",
              "      <th>44</th>\n",
              "      <td>190000000</td>\n",
              "      <td>1506249360</td>\n",
              "      <td>137.0</td>\n",
              "      <td>0</td>\n",
              "      <td>0</td>\n",
              "      <td>0</td>\n",
              "      <td>1</td>\n",
              "      <td>0</td>\n",
              "      <td>0</td>\n",
              "      <td>0</td>\n",
              "      <td>0</td>\n",
              "      <td>3</td>\n",
              "      <td>1</td>\n",
              "      <td>0</td>\n",
              "      <td>0</td>\n",
              "    </tr>\n",
              "    <tr>\n",
              "      <th>...</th>\n",
              "      <td>...</td>\n",
              "      <td>...</td>\n",
              "      <td>...</td>\n",
              "      <td>...</td>\n",
              "      <td>...</td>\n",
              "      <td>...</td>\n",
              "      <td>...</td>\n",
              "      <td>...</td>\n",
              "      <td>...</td>\n",
              "      <td>...</td>\n",
              "      <td>...</td>\n",
              "      <td>...</td>\n",
              "      <td>...</td>\n",
              "      <td>...</td>\n",
              "      <td>...</td>\n",
              "    </tr>\n",
              "    <tr>\n",
              "      <th>4795</th>\n",
              "      <td>0</td>\n",
              "      <td>0</td>\n",
              "      <td>98.0</td>\n",
              "      <td>1</td>\n",
              "      <td>0</td>\n",
              "      <td>0</td>\n",
              "      <td>0</td>\n",
              "      <td>0</td>\n",
              "      <td>0</td>\n",
              "      <td>0</td>\n",
              "      <td>0</td>\n",
              "      <td>0</td>\n",
              "      <td>0</td>\n",
              "      <td>1</td>\n",
              "      <td>1</td>\n",
              "    </tr>\n",
              "    <tr>\n",
              "      <th>4796</th>\n",
              "      <td>7000</td>\n",
              "      <td>424760</td>\n",
              "      <td>77.0</td>\n",
              "      <td>1</td>\n",
              "      <td>0</td>\n",
              "      <td>1</td>\n",
              "      <td>0</td>\n",
              "      <td>0</td>\n",
              "      <td>0</td>\n",
              "      <td>0</td>\n",
              "      <td>1</td>\n",
              "      <td>0</td>\n",
              "      <td>0</td>\n",
              "      <td>1</td>\n",
              "      <td>1</td>\n",
              "    </tr>\n",
              "    <tr>\n",
              "      <th>4798</th>\n",
              "      <td>220000</td>\n",
              "      <td>2040920</td>\n",
              "      <td>81.0</td>\n",
              "      <td>0</td>\n",
              "      <td>0</td>\n",
              "      <td>1</td>\n",
              "      <td>1</td>\n",
              "      <td>0</td>\n",
              "      <td>0</td>\n",
              "      <td>1</td>\n",
              "      <td>0</td>\n",
              "      <td>0</td>\n",
              "      <td>0</td>\n",
              "      <td>0</td>\n",
              "      <td>1</td>\n",
              "    </tr>\n",
              "    <tr>\n",
              "      <th>4800</th>\n",
              "      <td>0</td>\n",
              "      <td>0</td>\n",
              "      <td>120.0</td>\n",
              "      <td>1</td>\n",
              "      <td>1</td>\n",
              "      <td>0</td>\n",
              "      <td>0</td>\n",
              "      <td>1</td>\n",
              "      <td>0</td>\n",
              "      <td>0</td>\n",
              "      <td>0</td>\n",
              "      <td>0</td>\n",
              "      <td>0</td>\n",
              "      <td>1</td>\n",
              "      <td>1</td>\n",
              "    </tr>\n",
              "    <tr>\n",
              "      <th>4802</th>\n",
              "      <td>0</td>\n",
              "      <td>0</td>\n",
              "      <td>90.0</td>\n",
              "      <td>0</td>\n",
              "      <td>0</td>\n",
              "      <td>0</td>\n",
              "      <td>0</td>\n",
              "      <td>0</td>\n",
              "      <td>0</td>\n",
              "      <td>0</td>\n",
              "      <td>0</td>\n",
              "      <td>0</td>\n",
              "      <td>0</td>\n",
              "      <td>1</td>\n",
              "      <td>1</td>\n",
              "    </tr>\n",
              "  </tbody>\n",
              "</table>\n",
              "<p>4474 rows × 15 columns</p>\n",
              "</div>\n",
              "    <div class=\"colab-df-buttons\">\n",
              "\n",
              "  <div class=\"colab-df-container\">\n",
              "    <button class=\"colab-df-convert\" onclick=\"convertToInteractive('df-089a9fb8-e515-43fd-9e19-988e6a3f8505')\"\n",
              "            title=\"Convert this dataframe to an interactive table.\"\n",
              "            style=\"display:none;\">\n",
              "\n",
              "  <svg xmlns=\"http://www.w3.org/2000/svg\" height=\"24px\" viewBox=\"0 -960 960 960\">\n",
              "    <path d=\"M120-120v-720h720v720H120Zm60-500h600v-160H180v160Zm220 220h160v-160H400v160Zm0 220h160v-160H400v160ZM180-400h160v-160H180v160Zm440 0h160v-160H620v160ZM180-180h160v-160H180v160Zm440 0h160v-160H620v160Z\"/>\n",
              "  </svg>\n",
              "    </button>\n",
              "\n",
              "  <style>\n",
              "    .colab-df-container {\n",
              "      display:flex;\n",
              "      gap: 12px;\n",
              "    }\n",
              "\n",
              "    .colab-df-convert {\n",
              "      background-color: #E8F0FE;\n",
              "      border: none;\n",
              "      border-radius: 50%;\n",
              "      cursor: pointer;\n",
              "      display: none;\n",
              "      fill: #1967D2;\n",
              "      height: 32px;\n",
              "      padding: 0 0 0 0;\n",
              "      width: 32px;\n",
              "    }\n",
              "\n",
              "    .colab-df-convert:hover {\n",
              "      background-color: #E2EBFA;\n",
              "      box-shadow: 0px 1px 2px rgba(60, 64, 67, 0.3), 0px 1px 3px 1px rgba(60, 64, 67, 0.15);\n",
              "      fill: #174EA6;\n",
              "    }\n",
              "\n",
              "    .colab-df-buttons div {\n",
              "      margin-bottom: 4px;\n",
              "    }\n",
              "\n",
              "    [theme=dark] .colab-df-convert {\n",
              "      background-color: #3B4455;\n",
              "      fill: #D2E3FC;\n",
              "    }\n",
              "\n",
              "    [theme=dark] .colab-df-convert:hover {\n",
              "      background-color: #434B5C;\n",
              "      box-shadow: 0px 1px 3px 1px rgba(0, 0, 0, 0.15);\n",
              "      filter: drop-shadow(0px 1px 2px rgba(0, 0, 0, 0.3));\n",
              "      fill: #FFFFFF;\n",
              "    }\n",
              "  </style>\n",
              "\n",
              "    <script>\n",
              "      const buttonEl =\n",
              "        document.querySelector('#df-089a9fb8-e515-43fd-9e19-988e6a3f8505 button.colab-df-convert');\n",
              "      buttonEl.style.display =\n",
              "        google.colab.kernel.accessAllowed ? 'block' : 'none';\n",
              "\n",
              "      async function convertToInteractive(key) {\n",
              "        const element = document.querySelector('#df-089a9fb8-e515-43fd-9e19-988e6a3f8505');\n",
              "        const dataTable =\n",
              "          await google.colab.kernel.invokeFunction('convertToInteractive',\n",
              "                                                    [key], {});\n",
              "        if (!dataTable) return;\n",
              "\n",
              "        const docLinkHtml = 'Like what you see? Visit the ' +\n",
              "          '<a target=\"_blank\" href=https://colab.research.google.com/notebooks/data_table.ipynb>data table notebook</a>'\n",
              "          + ' to learn more about interactive tables.';\n",
              "        element.innerHTML = '';\n",
              "        dataTable['output_type'] = 'display_data';\n",
              "        await google.colab.output.renderOutput(dataTable, element);\n",
              "        const docLink = document.createElement('div');\n",
              "        docLink.innerHTML = docLinkHtml;\n",
              "        element.appendChild(docLink);\n",
              "      }\n",
              "    </script>\n",
              "  </div>\n",
              "\n",
              "\n",
              "<div id=\"df-2d8c5af2-5d32-46bf-94aa-ee4a5c70904e\">\n",
              "  <button class=\"colab-df-quickchart\" onclick=\"quickchart('df-2d8c5af2-5d32-46bf-94aa-ee4a5c70904e')\"\n",
              "            title=\"Suggest charts\"\n",
              "            style=\"display:none;\">\n",
              "\n",
              "<svg xmlns=\"http://www.w3.org/2000/svg\" height=\"24px\"viewBox=\"0 0 24 24\"\n",
              "     width=\"24px\">\n",
              "    <g>\n",
              "        <path d=\"M19 3H5c-1.1 0-2 .9-2 2v14c0 1.1.9 2 2 2h14c1.1 0 2-.9 2-2V5c0-1.1-.9-2-2-2zM9 17H7v-7h2v7zm4 0h-2V7h2v10zm4 0h-2v-4h2v4z\"/>\n",
              "    </g>\n",
              "</svg>\n",
              "  </button>\n",
              "\n",
              "<style>\n",
              "  .colab-df-quickchart {\n",
              "      --bg-color: #E8F0FE;\n",
              "      --fill-color: #1967D2;\n",
              "      --hover-bg-color: #E2EBFA;\n",
              "      --hover-fill-color: #174EA6;\n",
              "      --disabled-fill-color: #AAA;\n",
              "      --disabled-bg-color: #DDD;\n",
              "  }\n",
              "\n",
              "  [theme=dark] .colab-df-quickchart {\n",
              "      --bg-color: #3B4455;\n",
              "      --fill-color: #D2E3FC;\n",
              "      --hover-bg-color: #434B5C;\n",
              "      --hover-fill-color: #FFFFFF;\n",
              "      --disabled-bg-color: #3B4455;\n",
              "      --disabled-fill-color: #666;\n",
              "  }\n",
              "\n",
              "  .colab-df-quickchart {\n",
              "    background-color: var(--bg-color);\n",
              "    border: none;\n",
              "    border-radius: 50%;\n",
              "    cursor: pointer;\n",
              "    display: none;\n",
              "    fill: var(--fill-color);\n",
              "    height: 32px;\n",
              "    padding: 0;\n",
              "    width: 32px;\n",
              "  }\n",
              "\n",
              "  .colab-df-quickchart:hover {\n",
              "    background-color: var(--hover-bg-color);\n",
              "    box-shadow: 0 1px 2px rgba(60, 64, 67, 0.3), 0 1px 3px 1px rgba(60, 64, 67, 0.15);\n",
              "    fill: var(--button-hover-fill-color);\n",
              "  }\n",
              "\n",
              "  .colab-df-quickchart-complete:disabled,\n",
              "  .colab-df-quickchart-complete:disabled:hover {\n",
              "    background-color: var(--disabled-bg-color);\n",
              "    fill: var(--disabled-fill-color);\n",
              "    box-shadow: none;\n",
              "  }\n",
              "\n",
              "  .colab-df-spinner {\n",
              "    border: 2px solid var(--fill-color);\n",
              "    border-color: transparent;\n",
              "    border-bottom-color: var(--fill-color);\n",
              "    animation:\n",
              "      spin 1s steps(1) infinite;\n",
              "  }\n",
              "\n",
              "  @keyframes spin {\n",
              "    0% {\n",
              "      border-color: transparent;\n",
              "      border-bottom-color: var(--fill-color);\n",
              "      border-left-color: var(--fill-color);\n",
              "    }\n",
              "    20% {\n",
              "      border-color: transparent;\n",
              "      border-left-color: var(--fill-color);\n",
              "      border-top-color: var(--fill-color);\n",
              "    }\n",
              "    30% {\n",
              "      border-color: transparent;\n",
              "      border-left-color: var(--fill-color);\n",
              "      border-top-color: var(--fill-color);\n",
              "      border-right-color: var(--fill-color);\n",
              "    }\n",
              "    40% {\n",
              "      border-color: transparent;\n",
              "      border-right-color: var(--fill-color);\n",
              "      border-top-color: var(--fill-color);\n",
              "    }\n",
              "    60% {\n",
              "      border-color: transparent;\n",
              "      border-right-color: var(--fill-color);\n",
              "    }\n",
              "    80% {\n",
              "      border-color: transparent;\n",
              "      border-right-color: var(--fill-color);\n",
              "      border-bottom-color: var(--fill-color);\n",
              "    }\n",
              "    90% {\n",
              "      border-color: transparent;\n",
              "      border-bottom-color: var(--fill-color);\n",
              "    }\n",
              "  }\n",
              "</style>\n",
              "\n",
              "  <script>\n",
              "    async function quickchart(key) {\n",
              "      const quickchartButtonEl =\n",
              "        document.querySelector('#' + key + ' button');\n",
              "      quickchartButtonEl.disabled = true;  // To prevent multiple clicks.\n",
              "      quickchartButtonEl.classList.add('colab-df-spinner');\n",
              "      try {\n",
              "        const charts = await google.colab.kernel.invokeFunction(\n",
              "            'suggestCharts', [key], {});\n",
              "      } catch (error) {\n",
              "        console.error('Error during call to suggestCharts:', error);\n",
              "      }\n",
              "      quickchartButtonEl.classList.remove('colab-df-spinner');\n",
              "      quickchartButtonEl.classList.add('colab-df-quickchart-complete');\n",
              "    }\n",
              "    (() => {\n",
              "      let quickchartButtonEl =\n",
              "        document.querySelector('#df-2d8c5af2-5d32-46bf-94aa-ee4a5c70904e button');\n",
              "      quickchartButtonEl.style.display =\n",
              "        google.colab.kernel.accessAllowed ? 'block' : 'none';\n",
              "    })();\n",
              "  </script>\n",
              "</div>\n",
              "\n",
              "  <div id=\"id_a84a0acd-af96-48b1-92bf-e0ebfb9493a4\">\n",
              "    <style>\n",
              "      .colab-df-generate {\n",
              "        background-color: #E8F0FE;\n",
              "        border: none;\n",
              "        border-radius: 50%;\n",
              "        cursor: pointer;\n",
              "        display: none;\n",
              "        fill: #1967D2;\n",
              "        height: 32px;\n",
              "        padding: 0 0 0 0;\n",
              "        width: 32px;\n",
              "      }\n",
              "\n",
              "      .colab-df-generate:hover {\n",
              "        background-color: #E2EBFA;\n",
              "        box-shadow: 0px 1px 2px rgba(60, 64, 67, 0.3), 0px 1px 3px 1px rgba(60, 64, 67, 0.15);\n",
              "        fill: #174EA6;\n",
              "      }\n",
              "\n",
              "      [theme=dark] .colab-df-generate {\n",
              "        background-color: #3B4455;\n",
              "        fill: #D2E3FC;\n",
              "      }\n",
              "\n",
              "      [theme=dark] .colab-df-generate:hover {\n",
              "        background-color: #434B5C;\n",
              "        box-shadow: 0px 1px 3px 1px rgba(0, 0, 0, 0.15);\n",
              "        filter: drop-shadow(0px 1px 2px rgba(0, 0, 0, 0.3));\n",
              "        fill: #FFFFFF;\n",
              "      }\n",
              "    </style>\n",
              "    <button class=\"colab-df-generate\" onclick=\"generateWithVariable('final_df')\"\n",
              "            title=\"Generate code using this dataframe.\"\n",
              "            style=\"display:none;\">\n",
              "\n",
              "  <svg xmlns=\"http://www.w3.org/2000/svg\" height=\"24px\"viewBox=\"0 0 24 24\"\n",
              "       width=\"24px\">\n",
              "    <path d=\"M7,19H8.4L18.45,9,17,7.55,7,17.6ZM5,21V16.75L18.45,3.32a2,2,0,0,1,2.83,0l1.4,1.43a1.91,1.91,0,0,1,.58,1.4,1.91,1.91,0,0,1-.58,1.4L9.25,21ZM18.45,9,17,7.55Zm-12,3A5.31,5.31,0,0,0,4.9,8.1,5.31,5.31,0,0,0,1,6.5,5.31,5.31,0,0,0,4.9,4.9,5.31,5.31,0,0,0,6.5,1,5.31,5.31,0,0,0,8.1,4.9,5.31,5.31,0,0,0,12,6.5,5.46,5.46,0,0,0,6.5,12Z\"/>\n",
              "  </svg>\n",
              "    </button>\n",
              "    <script>\n",
              "      (() => {\n",
              "      const buttonEl =\n",
              "        document.querySelector('#id_a84a0acd-af96-48b1-92bf-e0ebfb9493a4 button.colab-df-generate');\n",
              "      buttonEl.style.display =\n",
              "        google.colab.kernel.accessAllowed ? 'block' : 'none';\n",
              "\n",
              "      buttonEl.onclick = () => {\n",
              "        google.colab.notebook.generateWithVariable('final_df');\n",
              "      }\n",
              "      })();\n",
              "    </script>\n",
              "  </div>\n",
              "\n",
              "    </div>\n",
              "  </div>\n"
            ],
            "application/vnd.google.colaboratory.intrinsic+json": {
              "type": "dataframe",
              "variable_name": "final_df",
              "summary": "{\n  \"name\": \"final_df\",\n  \"rows\": 4474,\n  \"fields\": [\n    {\n      \"column\": \"budget\",\n      \"properties\": {\n        \"dtype\": \"number\",\n        \"std\": 36052002,\n        \"min\": 0,\n        \"max\": 195000000,\n        \"num_unique_values\": 405,\n        \"samples\": [\n          86000000,\n          14350531,\n          8000\n        ],\n        \"semantic_type\": \"\",\n        \"description\": \"\"\n      }\n    },\n    {\n      \"column\": \"gross\",\n      \"properties\": {\n        \"dtype\": \"number\",\n        \"std\": 139925555,\n        \"min\": 0,\n        \"max\": 1513528810,\n        \"num_unique_values\": 3177,\n        \"samples\": [\n          149295601,\n          14010832,\n          132820716\n        ],\n        \"semantic_type\": \"\",\n        \"description\": \"\"\n      }\n    },\n    {\n      \"column\": \"duration\",\n      \"properties\": {\n        \"dtype\": \"number\",\n        \"std\": 18.308077453801555,\n        \"min\": 0.0,\n        \"max\": 177.0,\n        \"num_unique_values\": 119,\n        \"samples\": [\n          133.0,\n          177.0,\n          137.0\n        ],\n        \"semantic_type\": \"\",\n        \"description\": \"\"\n      }\n    },\n    {\n      \"column\": \"genre_Drama\",\n      \"properties\": {\n        \"dtype\": \"number\",\n        \"std\": 0,\n        \"min\": 0,\n        \"max\": 1,\n        \"num_unique_values\": 2,\n        \"samples\": [\n          1,\n          0\n        ],\n        \"semantic_type\": \"\",\n        \"description\": \"\"\n      }\n    },\n    {\n      \"column\": \"genre_Comedy\",\n      \"properties\": {\n        \"dtype\": \"number\",\n        \"std\": 0,\n        \"min\": 0,\n        \"max\": 1,\n        \"num_unique_values\": 2,\n        \"samples\": [\n          1,\n          0\n        ],\n        \"semantic_type\": \"\",\n        \"description\": \"\"\n      }\n    },\n    {\n      \"column\": \"genre_Thriller\",\n      \"properties\": {\n        \"dtype\": \"number\",\n        \"std\": 0,\n        \"min\": 0,\n        \"max\": 1,\n        \"num_unique_values\": 2,\n        \"samples\": [\n          1,\n          0\n        ],\n        \"semantic_type\": \"\",\n        \"description\": \"\"\n      }\n    },\n    {\n      \"column\": \"genre_Action\",\n      \"properties\": {\n        \"dtype\": \"number\",\n        \"std\": 0,\n        \"min\": 0,\n        \"max\": 1,\n        \"num_unique_values\": 2,\n        \"samples\": [\n          1,\n          0\n        ],\n        \"semantic_type\": \"\",\n        \"description\": \"\"\n      }\n    },\n    {\n      \"column\": \"genre_Romance\",\n      \"properties\": {\n        \"dtype\": \"number\",\n        \"std\": 0,\n        \"min\": 0,\n        \"max\": 1,\n        \"num_unique_values\": 2,\n        \"samples\": [\n          1,\n          0\n        ],\n        \"semantic_type\": \"\",\n        \"description\": \"\"\n      }\n    },\n    {\n      \"column\": \"genre_Adventure\",\n      \"properties\": {\n        \"dtype\": \"number\",\n        \"std\": 0,\n        \"min\": 0,\n        \"max\": 1,\n        \"num_unique_values\": 2,\n        \"samples\": [\n          0,\n          1\n        ],\n        \"semantic_type\": \"\",\n        \"description\": \"\"\n      }\n    },\n    {\n      \"column\": \"genre_Crime\",\n      \"properties\": {\n        \"dtype\": \"number\",\n        \"std\": 0,\n        \"min\": 0,\n        \"max\": 1,\n        \"num_unique_values\": 2,\n        \"samples\": [\n          1,\n          0\n        ],\n        \"semantic_type\": \"\",\n        \"description\": \"\"\n      }\n    },\n    {\n      \"column\": \"genre_Science_Fiction\",\n      \"properties\": {\n        \"dtype\": \"number\",\n        \"std\": 0,\n        \"min\": 0,\n        \"max\": 1,\n        \"num_unique_values\": 2,\n        \"samples\": [\n          1,\n          0\n        ],\n        \"semantic_type\": \"\",\n        \"description\": \"\"\n      }\n    },\n    {\n      \"column\": \"super_stars\",\n      \"properties\": {\n        \"dtype\": \"number\",\n        \"std\": 1,\n        \"min\": 0,\n        \"max\": 3,\n        \"num_unique_values\": 4,\n        \"samples\": [\n          1,\n          0\n        ],\n        \"semantic_type\": \"\",\n        \"description\": \"\"\n      }\n    },\n    {\n      \"column\": \"profitable\",\n      \"properties\": {\n        \"dtype\": \"number\",\n        \"std\": 0,\n        \"min\": 0,\n        \"max\": 1,\n        \"num_unique_values\": 2,\n        \"samples\": [\n          0,\n          1\n        ],\n        \"semantic_type\": \"\",\n        \"description\": \"\"\n      }\n    },\n    {\n      \"column\": \"country_USA\",\n      \"properties\": {\n        \"dtype\": \"uint8\",\n        \"num_unique_values\": 2,\n        \"samples\": [\n          1,\n          0\n        ],\n        \"semantic_type\": \"\",\n        \"description\": \"\"\n      }\n    },\n    {\n      \"column\": \"release_month_second_half\",\n      \"properties\": {\n        \"dtype\": \"uint8\",\n        \"num_unique_values\": 2,\n        \"samples\": [\n          0,\n          1\n        ],\n        \"semantic_type\": \"\",\n        \"description\": \"\"\n      }\n    }\n  ]\n}"
            }
          },
          "metadata": {},
          "execution_count": 17
        }
      ]
    },
    {
      "cell_type": "code",
      "source": [
        "sns.heatmap(final_df.corr(), cmap='coolwarm')"
      ],
      "metadata": {
        "id": "XUT8Tobk2iHe",
        "outputId": "0ac48899-32de-4deb-c245-5db9eb1a046a",
        "colab": {
          "base_uri": "https://localhost:8080/",
          "height": 654
        }
      },
      "execution_count": null,
      "outputs": [
        {
          "output_type": "execute_result",
          "data": {
            "text/plain": [
              "<Axes: >"
            ]
          },
          "metadata": {},
          "execution_count": 26
        },
        {
          "output_type": "display_data",
          "data": {
            "text/plain": [
              "<Figure size 640x480 with 2 Axes>"
            ],
            "image/png": "[encoded data removed]"
          },
          "metadata": {}
        }
      ]
    },
    {
      "cell_type": "code",
      "source": [
        "final_df.columns"
      ],
      "metadata": {
        "colab": {
          "base_uri": "https://localhost:8080/"
        },
        "id": "83dEVhmy8mB4",
        "outputId": "2e9eb992-8007-46dd-f17d-d25de7653e65"
      },
      "execution_count": null,
      "outputs": [
        {
          "output_type": "execute_result",
          "data": {
            "text/plain": [
              "Index(['budget', 'gross', 'duration', 'genre_Drama', 'genre_Comedy',\n",
              "       'genre_Thriller', 'genre_Action', 'genre_Romance', 'genre_Adventure',\n",
              "       'genre_Crime', 'genre_Science_Fiction', 'super_stars', 'profitable',\n",
              "       'country_USA', 'release_month_second_half'],\n",
              "      dtype='object')"
            ]
          },
          "metadata": {},
          "execution_count": 27
        }
      ]
    },
    {
      "cell_type": "markdown",
      "source": [
        "We consider profitable column as target. As a future task, one can repeat the modeling phase with either of popularity, gross, vote_average or num_voted_users columns."
      ],
      "metadata": {
        "id": "jiSqg7pQ-LFk"
      }
    },
    {
      "cell_type": "code",
      "source": [
        "final_df = final_df[['budget', 'duration', 'genre_Drama', 'genre_Comedy', 'genre_Thriller',\n",
        "                     'genre_Action', 'genre_Romance', 'genre_Crime', 'genre_Adventure',\n",
        "                     'super_stars', 'profitable', 'country_USA',\n",
        "                     'release_month_second_half']]"
      ],
      "metadata": {
        "id": "COcUxfAv76iH"
      },
      "execution_count": null,
      "outputs": []
    },
    {
      "cell_type": "markdown",
      "source": [
        "## **Standardization**"
      ],
      "metadata": {
        "id": "1pnNQXKwXb3g"
      }
    },
    {
      "cell_type": "code",
      "source": [
        "categorical_df = final_df[['genre_Drama', 'genre_Comedy', 'genre_Thriller',\n",
        "                           'genre_Action', 'genre_Romance', 'genre_Crime', 'genre_Adventure',\n",
        "                           'country_USA', 'release_month_second_half']]\n",
        "numerical_df = final_df[['budget', 'duration', 'super_stars']]"
      ],
      "metadata": {
        "id": "0q6ti8AIBuIp"
      },
      "execution_count": null,
      "outputs": []
    },
    {
      "cell_type": "code",
      "source": [
        "categorical_df.set_index(np.arange(len(categorical_df)), inplace=True)"
      ],
      "metadata": {
        "id": "AJ6a4manDQJS"
      },
      "execution_count": null,
      "outputs": []
    },
    {
      "cell_type": "code",
      "source": [
        "from sklearn.preprocessing import StandardScaler\n",
        "\n",
        "scalar = StandardScaler()\n",
        "scalar.fit(numerical_df)\n",
        "scaled_inputs = scalar.transform(numerical_df)"
      ],
      "metadata": {
        "id": "Hizpif23pF8S"
      },
      "execution_count": null,
      "outputs": []
    },
    {
      "cell_type": "code",
      "source": [
        "scaled_df = pd.DataFrame(scaled_inputs, columns=numerical_df.columns)\n",
        "scaled_df = pd.concat([scaled_df, categorical_df], axis=1)\n",
        "scaled_df"
      ],
      "metadata": {
        "id": "wiESrXKXC4i0",
        "outputId": "ef59c9c5-9719-4885-abfe-8a3867fb70ee",
        "colab": {
          "base_uri": "https://localhost:8080/",
          "height": 443
        }
      },
      "execution_count": null,
      "outputs": [
        {
          "output_type": "execute_result",
          "data": {
            "text/plain": [
              "        budget  duration  super_stars  genre_Drama  genre_Comedy  \\\n",
              "0     4.206165  0.347822     1.832827            0             0   \n",
              "1     3.373940  0.948716    -0.096147            0             0   \n",
              "2     3.373940  2.369013     0.868340            0             0   \n",
              "3     3.928757  1.003343     0.868340            0             0   \n",
              "4     4.483573  1.658865     1.832827            0             0   \n",
              "...        ...       ...          ...          ...           ...   \n",
              "4469 -0.787181 -0.471580    -1.060634            1             0   \n",
              "4470 -0.786987 -1.618743    -1.060634            1             0   \n",
              "4471 -0.781078 -1.400236    -1.060634            0             0   \n",
              "4472 -0.787181  0.730209    -1.060634            1             1   \n",
              "4473 -0.787181 -0.908595    -1.060634            0             0   \n",
              "\n",
              "      genre_Thriller  genre_Action  genre_Romance  genre_Crime  \\\n",
              "0                  0             0              0            0   \n",
              "1                  1             1              0            0   \n",
              "2                  0             1              0            0   \n",
              "3                  0             1              0            0   \n",
              "4                  0             1              0            0   \n",
              "...              ...           ...            ...          ...   \n",
              "4469               0             0              0            0   \n",
              "4470               1             0              0            0   \n",
              "4471               1             1              0            1   \n",
              "4472               0             0              1            0   \n",
              "4473               0             0              0            0   \n",
              "\n",
              "      genre_Adventure  country_USA  release_month_second_half  \n",
              "0                   1            0                          1  \n",
              "1                   1            1                          0  \n",
              "2                   1            1                          0  \n",
              "3                   1            1                          1  \n",
              "4                   0            0                          0  \n",
              "...               ...          ...                        ...  \n",
              "4469                0            1                          1  \n",
              "4470                0            1                          1  \n",
              "4471                0            0                          1  \n",
              "4472                0            1                          1  \n",
              "4473                0            1                          1  \n",
              "\n",
              "[4474 rows x 12 columns]"
            ],
            "text/html": [
              "\n",
              "  <div id=\"df-4623e4e7-6c19-4170-a8e6-c4f564f6e681\" class=\"colab-df-container\">\n",
              "    <div>\n",
              "<style scoped>\n",
              "    .dataframe tbody tr th:only-of-type {\n",
              "        vertical-align: middle;\n",
              "    }\n",
              "\n",
              "    .dataframe tbody tr th {\n",
              "        vertical-align: top;\n",
              "    }\n",
              "\n",
              "    .dataframe thead th {\n",
              "        text-align: right;\n",
              "    }\n",
              "</style>\n",
              "<table border=\"1\" class=\"dataframe\">\n",
              "  <thead>\n",
              "    <tr style=\"text-align: right;\">\n",
              "      <th></th>\n",
              "      <th>budget</th>\n",
              "      <th>duration</th>\n",
              "      <th>super_stars</th>\n",
              "      <th>genre_Drama</th>\n",
              "      <th>genre_Comedy</th>\n",
              "      <th>genre_Thriller</th>\n",
              "      <th>genre_Action</th>\n",
              "      <th>genre_Romance</th>\n",
              "      <th>genre_Crime</th>\n",
              "      <th>genre_Adventure</th>\n",
              "      <th>country_USA</th>\n",
              "      <th>release_month_second_half</th>\n",
              "    </tr>\n",
              "  </thead>\n",
              "  <tbody>\n",
              "    <tr>\n",
              "      <th>0</th>\n",
              "      <td>4.206165</td>\n",
              "      <td>0.347822</td>\n",
              "      <td>1.832827</td>\n",
              "      <td>0</td>\n",
              "      <td>0</td>\n",
              "      <td>0</td>\n",
              "      <td>0</td>\n",
              "      <td>0</td>\n",
              "      <td>0</td>\n",
              "      <td>1</td>\n",
              "      <td>0</td>\n",
              "      <td>1</td>\n",
              "    </tr>\n",
              "    <tr>\n",
              "      <th>1</th>\n",
              "      <td>3.373940</td>\n",
              "      <td>0.948716</td>\n",
              "      <td>-0.096147</td>\n",
              "      <td>0</td>\n",
              "      <td>0</td>\n",
              "      <td>1</td>\n",
              "      <td>1</td>\n",
              "      <td>0</td>\n",
              "      <td>0</td>\n",
              "      <td>1</td>\n",
              "      <td>1</td>\n",
              "      <td>0</td>\n",
              "    </tr>\n",
              "    <tr>\n",
              "      <th>2</th>\n",
              "      <td>3.373940</td>\n",
              "      <td>2.369013</td>\n",
              "      <td>0.868340</td>\n",
              "      <td>0</td>\n",
              "      <td>0</td>\n",
              "      <td>0</td>\n",
              "      <td>1</td>\n",
              "      <td>0</td>\n",
              "      <td>0</td>\n",
              "      <td>1</td>\n",
              "      <td>1</td>\n",
              "      <td>0</td>\n",
              "    </tr>\n",
              "    <tr>\n",
              "      <th>3</th>\n",
              "      <td>3.928757</td>\n",
              "      <td>1.003343</td>\n",
              "      <td>0.868340</td>\n",
              "      <td>0</td>\n",
              "      <td>0</td>\n",
              "      <td>0</td>\n",
              "      <td>1</td>\n",
              "      <td>0</td>\n",
              "      <td>0</td>\n",
              "      <td>1</td>\n",
              "      <td>1</td>\n",
              "      <td>1</td>\n",
              "    </tr>\n",
              "    <tr>\n",
              "      <th>4</th>\n",
              "      <td>4.483573</td>\n",
              "      <td>1.658865</td>\n",
              "      <td>1.832827</td>\n",
              "      <td>0</td>\n",
              "      <td>0</td>\n",
              "      <td>0</td>\n",
              "      <td>1</td>\n",
              "      <td>0</td>\n",
              "      <td>0</td>\n",
              "      <td>0</td>\n",
              "      <td>0</td>\n",
              "      <td>0</td>\n",
              "    </tr>\n",
              "    <tr>\n",
              "      <th>...</th>\n",
              "      <td>...</td>\n",
              "      <td>...</td>\n",
              "      <td>...</td>\n",
              "      <td>...</td>\n",
              "      <td>...</td>\n",
              "      <td>...</td>\n",
              "      <td>...</td>\n",
              "      <td>...</td>\n",
              "      <td>...</td>\n",
              "      <td>...</td>\n",
              "      <td>...</td>\n",
              "      <td>...</td>\n",
              "    </tr>\n",
              "    <tr>\n",
              "      <th>4469</th>\n",
              "      <td>-0.787181</td>\n",
              "      <td>-0.471580</td>\n",
              "      <td>-1.060634</td>\n",
              "      <td>1</td>\n",
              "      <td>0</td>\n",
              "      <td>0</td>\n",
              "      <td>0</td>\n",
              "      <td>0</td>\n",
              "      <td>0</td>\n",
              "      <td>0</td>\n",
              "      <td>1</td>\n",
              "      <td>1</td>\n",
              "    </tr>\n",
              "    <tr>\n",
              "      <th>4470</th>\n",
              "      <td>-0.786987</td>\n",
              "      <td>-1.618743</td>\n",
              "      <td>-1.060634</td>\n",
              "      <td>1</td>\n",
              "      <td>0</td>\n",
              "      <td>1</td>\n",
              "      <td>0</td>\n",
              "      <td>0</td>\n",
              "      <td>0</td>\n",
              "      <td>0</td>\n",
              "      <td>1</td>\n",
              "      <td>1</td>\n",
              "    </tr>\n",
              "    <tr>\n",
              "      <th>4471</th>\n",
              "      <td>-0.781078</td>\n",
              "      <td>-1.400236</td>\n",
              "      <td>-1.060634</td>\n",
              "      <td>0</td>\n",
              "      <td>0</td>\n",
              "      <td>1</td>\n",
              "      <td>1</td>\n",
              "      <td>0</td>\n",
              "      <td>1</td>\n",
              "      <td>0</td>\n",
              "      <td>0</td>\n",
              "      <td>1</td>\n",
              "    </tr>\n",
              "    <tr>\n",
              "      <th>4472</th>\n",
              "      <td>-0.787181</td>\n",
              "      <td>0.730209</td>\n",
              "      <td>-1.060634</td>\n",
              "      <td>1</td>\n",
              "      <td>1</td>\n",
              "      <td>0</td>\n",
              "      <td>0</td>\n",
              "      <td>1</td>\n",
              "      <td>0</td>\n",
              "      <td>0</td>\n",
              "      <td>1</td>\n",
              "      <td>1</td>\n",
              "    </tr>\n",
              "    <tr>\n",
              "      <th>4473</th>\n",
              "      <td>-0.787181</td>\n",
              "      <td>-0.908595</td>\n",
              "      <td>-1.060634</td>\n",
              "      <td>0</td>\n",
              "      <td>0</td>\n",
              "      <td>0</td>\n",
              "      <td>0</td>\n",
              "      <td>0</td>\n",
              "      <td>0</td>\n",
              "      <td>0</td>\n",
              "      <td>1</td>\n",
              "      <td>1</td>\n",
              "    </tr>\n",
              "  </tbody>\n",
              "</table>\n",
              "<p>4474 rows × 12 columns</p>\n",
              "</div>\n",
              "    <div class=\"colab-df-buttons\">\n",
              "\n",
              "  <div class=\"colab-df-container\">\n",
              "    <button class=\"colab-df-convert\" onclick=\"convertToInteractive('df-4623e4e7-6c19-4170-a8e6-c4f564f6e681')\"\n",
              "            title=\"Convert this dataframe to an interactive table.\"\n",
              "            style=\"display:none;\">\n",
              "\n",
              "  <svg xmlns=\"http://www.w3.org/2000/svg\" height=\"24px\" viewBox=\"0 -960 960 960\">\n",
              "    <path d=\"M120-120v-720h720v720H120Zm60-500h600v-160H180v160Zm220 220h160v-160H400v160Zm0 220h160v-160H400v160ZM180-400h160v-160H180v160Zm440 0h160v-160H620v160ZM180-180h160v-160H180v160Zm440 0h160v-160H620v160Z\"/>\n",
              "  </svg>\n",
              "    </button>\n",
              "\n",
              "  <style>\n",
              "    .colab-df-container {\n",
              "      display:flex;\n",
              "      gap: 12px;\n",
              "    }\n",
              "\n",
              "    .colab-df-convert {\n",
              "      background-color: #E8F0FE;\n",
              "      border: none;\n",
              "      border-radius: 50%;\n",
              "      cursor: pointer;\n",
              "      display: none;\n",
              "      fill: #1967D2;\n",
              "      height: 32px;\n",
              "      padding: 0 0 0 0;\n",
              "      width: 32px;\n",
              "    }\n",
              "\n",
              "    .colab-df-convert:hover {\n",
              "      background-color: #E2EBFA;\n",
              "      box-shadow: 0px 1px 2px rgba(60, 64, 67, 0.3), 0px 1px 3px 1px rgba(60, 64, 67, 0.15);\n",
              "      fill: #174EA6;\n",
              "    }\n",
              "\n",
              "    .colab-df-buttons div {\n",
              "      margin-bottom: 4px;\n",
              "    }\n",
              "\n",
              "    [theme=dark] .colab-df-convert {\n",
              "      background-color: #3B4455;\n",
              "      fill: #D2E3FC;\n",
              "    }\n",
              "\n",
              "    [theme=dark] .colab-df-convert:hover {\n",
              "      background-color: #434B5C;\n",
              "      box-shadow: 0px 1px 3px 1px rgba(0, 0, 0, 0.15);\n",
              "      filter: drop-shadow(0px 1px 2px rgba(0, 0, 0, 0.3));\n",
              "      fill: #FFFFFF;\n",
              "    }\n",
              "  </style>\n",
              "\n",
              "    <script>\n",
              "      const buttonEl =\n",
              "        document.querySelector('#df-4623e4e7-6c19-4170-a8e6-c4f564f6e681 button.colab-df-convert');\n",
              "      buttonEl.style.display =\n",
              "        google.colab.kernel.accessAllowed ? 'block' : 'none';\n",
              "\n",
              "      async function convertToInteractive(key) {\n",
              "        const element = document.querySelector('#df-4623e4e7-6c19-4170-a8e6-c4f564f6e681');\n",
              "        const dataTable =\n",
              "          await google.colab.kernel.invokeFunction('convertToInteractive',\n",
              "                                                    [key], {});\n",
              "        if (!dataTable) return;\n",
              "\n",
              "        const docLinkHtml = 'Like what you see? Visit the ' +\n",
              "          '<a target=\"_blank\" href=https://colab.research.google.com/notebooks/data_table.ipynb>data table notebook</a>'\n",
              "          + ' to learn more about interactive tables.';\n",
              "        element.innerHTML = '';\n",
              "        dataTable['output_type'] = 'display_data';\n",
              "        await google.colab.output.renderOutput(dataTable, element);\n",
              "        const docLink = document.createElement('div');\n",
              "        docLink.innerHTML = docLinkHtml;\n",
              "        element.appendChild(docLink);\n",
              "      }\n",
              "    </script>\n",
              "  </div>\n",
              "\n",
              "\n",
              "<div id=\"df-09db529a-004a-4faa-a860-e75cba9faa3f\">\n",
              "  <button class=\"colab-df-quickchart\" onclick=\"quickchart('df-09db529a-004a-4faa-a860-e75cba9faa3f')\"\n",
              "            title=\"Suggest charts\"\n",
              "            style=\"display:none;\">\n",
              "\n",
              "<svg xmlns=\"http://www.w3.org/2000/svg\" height=\"24px\"viewBox=\"0 0 24 24\"\n",
              "     width=\"24px\">\n",
              "    <g>\n",
              "        <path d=\"M19 3H5c-1.1 0-2 .9-2 2v14c0 1.1.9 2 2 2h14c1.1 0 2-.9 2-2V5c0-1.1-.9-2-2-2zM9 17H7v-7h2v7zm4 0h-2V7h2v10zm4 0h-2v-4h2v4z\"/>\n",
              "    </g>\n",
              "</svg>\n",
              "  </button>\n",
              "\n",
              "<style>\n",
              "  .colab-df-quickchart {\n",
              "      --bg-color: #E8F0FE;\n",
              "      --fill-color: #1967D2;\n",
              "      --hover-bg-color: #E2EBFA;\n",
              "      --hover-fill-color: #174EA6;\n",
              "      --disabled-fill-color: #AAA;\n",
              "      --disabled-bg-color: #DDD;\n",
              "  }\n",
              "\n",
              "  [theme=dark] .colab-df-quickchart {\n",
              "      --bg-color: #3B4455;\n",
              "      --fill-color: #D2E3FC;\n",
              "      --hover-bg-color: #434B5C;\n",
              "      --hover-fill-color: #FFFFFF;\n",
              "      --disabled-bg-color: #3B4455;\n",
              "      --disabled-fill-color: #666;\n",
              "  }\n",
              "\n",
              "  .colab-df-quickchart {\n",
              "    background-color: var(--bg-color);\n",
              "    border: none;\n",
              "    border-radius: 50%;\n",
              "    cursor: pointer;\n",
              "    display: none;\n",
              "    fill: var(--fill-color);\n",
              "    height: 32px;\n",
              "    padding: 0;\n",
              "    width: 32px;\n",
              "  }\n",
              "\n",
              "  .colab-df-quickchart:hover {\n",
              "    background-color: var(--hover-bg-color);\n",
              "    box-shadow: 0 1px 2px rgba(60, 64, 67, 0.3), 0 1px 3px 1px rgba(60, 64, 67, 0.15);\n",
              "    fill: var(--button-hover-fill-color);\n",
              "  }\n",
              "\n",
              "  .colab-df-quickchart-complete:disabled,\n",
              "  .colab-df-quickchart-complete:disabled:hover {\n",
              "    background-color: var(--disabled-bg-color);\n",
              "    fill: var(--disabled-fill-color);\n",
              "    box-shadow: none;\n",
              "  }\n",
              "\n",
              "  .colab-df-spinner {\n",
              "    border: 2px solid var(--fill-color);\n",
              "    border-color: transparent;\n",
              "    border-bottom-color: var(--fill-color);\n",
              "    animation:\n",
              "      spin 1s steps(1) infinite;\n",
              "  }\n",
              "\n",
              "  @keyframes spin {\n",
              "    0% {\n",
              "      border-color: transparent;\n",
              "      border-bottom-color: var(--fill-color);\n",
              "      border-left-color: var(--fill-color);\n",
              "    }\n",
              "    20% {\n",
              "      border-color: transparent;\n",
              "      border-left-color: var(--fill-color);\n",
              "      border-top-color: var(--fill-color);\n",
              "    }\n",
              "    30% {\n",
              "      border-color: transparent;\n",
              "      border-left-color: var(--fill-color);\n",
              "      border-top-color: var(--fill-color);\n",
              "      border-right-color: var(--fill-color);\n",
              "    }\n",
              "    40% {\n",
              "      border-color: transparent;\n",
              "      border-right-color: var(--fill-color);\n",
              "      border-top-color: var(--fill-color);\n",
              "    }\n",
              "    60% {\n",
              "      border-color: transparent;\n",
              "      border-right-color: var(--fill-color);\n",
              "    }\n",
              "    80% {\n",
              "      border-color: transparent;\n",
              "      border-right-color: var(--fill-color);\n",
              "      border-bottom-color: var(--fill-color);\n",
              "    }\n",
              "    90% {\n",
              "      border-color: transparent;\n",
              "      border-bottom-color: var(--fill-color);\n",
              "    }\n",
              "  }\n",
              "</style>\n",
              "\n",
              "  <script>\n",
              "    async function quickchart(key) {\n",
              "      const quickchartButtonEl =\n",
              "        document.querySelector('#' + key + ' button');\n",
              "      quickchartButtonEl.disabled = true;  // To prevent multiple clicks.\n",
              "      quickchartButtonEl.classList.add('colab-df-spinner');\n",
              "      try {\n",
              "        const charts = await google.colab.kernel.invokeFunction(\n",
              "            'suggestCharts', [key], {});\n",
              "      } catch (error) {\n",
              "        console.error('Error during call to suggestCharts:', error);\n",
              "      }\n",
              "      quickchartButtonEl.classList.remove('colab-df-spinner');\n",
              "      quickchartButtonEl.classList.add('colab-df-quickchart-complete');\n",
              "    }\n",
              "    (() => {\n",
              "      let quickchartButtonEl =\n",
              "        document.querySelector('#df-09db529a-004a-4faa-a860-e75cba9faa3f button');\n",
              "      quickchartButtonEl.style.display =\n",
              "        google.colab.kernel.accessAllowed ? 'block' : 'none';\n",
              "    })();\n",
              "  </script>\n",
              "</div>\n",
              "\n",
              "  <div id=\"id_896804f1-24c8-421f-9d30-f6b063b891af\">\n",
              "    <style>\n",
              "      .colab-df-generate {\n",
              "        background-color: #E8F0FE;\n",
              "        border: none;\n",
              "        border-radius: 50%;\n",
              "        cursor: pointer;\n",
              "        display: none;\n",
              "        fill: #1967D2;\n",
              "        height: 32px;\n",
              "        padding: 0 0 0 0;\n",
              "        width: 32px;\n",
              "      }\n",
              "\n",
              "      .colab-df-generate:hover {\n",
              "        background-color: #E2EBFA;\n",
              "        box-shadow: 0px 1px 2px rgba(60, 64, 67, 0.3), 0px 1px 3px 1px rgba(60, 64, 67, 0.15);\n",
              "        fill: #174EA6;\n",
              "      }\n",
              "\n",
              "      [theme=dark] .colab-df-generate {\n",
              "        background-color: #3B4455;\n",
              "        fill: #D2E3FC;\n",
              "      }\n",
              "\n",
              "      [theme=dark] .colab-df-generate:hover {\n",
              "        background-color: #434B5C;\n",
              "        box-shadow: 0px 1px 3px 1px rgba(0, 0, 0, 0.15);\n",
              "        filter: drop-shadow(0px 1px 2px rgba(0, 0, 0, 0.3));\n",
              "        fill: #FFFFFF;\n",
              "      }\n",
              "    </style>\n",
              "    <button class=\"colab-df-generate\" onclick=\"generateWithVariable('scaled_df')\"\n",
              "            title=\"Generate code using this dataframe.\"\n",
              "            style=\"display:none;\">\n",
              "\n",
              "  <svg xmlns=\"http://www.w3.org/2000/svg\" height=\"24px\"viewBox=\"0 0 24 24\"\n",
              "       width=\"24px\">\n",
              "    <path d=\"M7,19H8.4L18.45,9,17,7.55,7,17.6ZM5,21V16.75L18.45,3.32a2,2,0,0,1,2.83,0l1.4,1.43a1.91,1.91,0,0,1,.58,1.4,1.91,1.91,0,0,1-.58,1.4L9.25,21ZM18.45,9,17,7.55Zm-12,3A5.31,5.31,0,0,0,4.9,8.1,5.31,5.31,0,0,0,1,6.5,5.31,5.31,0,0,0,4.9,4.9,5.31,5.31,0,0,0,6.5,1,5.31,5.31,0,0,0,8.1,4.9,5.31,5.31,0,0,0,12,6.5,5.46,5.46,0,0,0,6.5,12Z\"/>\n",
              "  </svg>\n",
              "    </button>\n",
              "    <script>\n",
              "      (() => {\n",
              "      const buttonEl =\n",
              "        document.querySelector('#id_896804f1-24c8-421f-9d30-f6b063b891af button.colab-df-generate');\n",
              "      buttonEl.style.display =\n",
              "        google.colab.kernel.accessAllowed ? 'block' : 'none';\n",
              "\n",
              "      buttonEl.onclick = () => {\n",
              "        google.colab.notebook.generateWithVariable('scaled_df');\n",
              "      }\n",
              "      })();\n",
              "    </script>\n",
              "  </div>\n",
              "\n",
              "    </div>\n",
              "  </div>\n"
            ],
            "application/vnd.google.colaboratory.intrinsic+json": {
              "type": "dataframe",
              "variable_name": "scaled_df",
              "summary": "{\n  \"name\": \"scaled_df\",\n  \"rows\": 4474,\n  \"fields\": [\n    {\n      \"column\": \"budget\",\n      \"properties\": {\n        \"dtype\": \"number\",\n        \"std\": 1.0001117755550353,\n        \"min\": -0.7871812255568499,\n        \"max\": 4.622276847449568,\n        \"num_unique_values\": 405,\n        \"samples\": [\n          1.5985284886921345,\n          -0.38908586263439415,\n          -0.7869592990718034\n        ],\n        \"semantic_type\": \"\",\n        \"description\": \"\"\n      }\n    },\n    {\n      \"column\": \"duration\",\n      \"properties\": {\n        \"dtype\": \"number\",\n        \"std\": 1.0001117755550353,\n        \"min\": -5.825007366536805,\n        \"max\": 3.843937104554245,\n        \"num_unique_values\": 119,\n        \"samples\": [\n          1.4403576880118374,\n          3.843937104554245,\n          1.6588649076975108\n        ],\n        \"semantic_type\": \"\",\n        \"description\": \"\"\n      }\n    },\n    {\n      \"column\": \"super_stars\",\n      \"properties\": {\n        \"dtype\": \"number\",\n        \"std\": 1.000111775555035,\n        \"min\": -1.060633553744972,\n        \"max\": 1.8328265190934456,\n        \"num_unique_values\": 4,\n        \"samples\": [\n          -0.09614686279883289,\n          -1.060633553744972,\n          1.8328265190934456\n        ],\n        \"semantic_type\": \"\",\n        \"description\": \"\"\n      }\n    },\n    {\n      \"column\": \"genre_Drama\",\n      \"properties\": {\n        \"dtype\": \"number\",\n        \"std\": 0,\n        \"min\": 0,\n        \"max\": 1,\n        \"num_unique_values\": 2,\n        \"samples\": [\n          1,\n          0\n        ],\n        \"semantic_type\": \"\",\n        \"description\": \"\"\n      }\n    },\n    {\n      \"column\": \"genre_Comedy\",\n      \"properties\": {\n        \"dtype\": \"number\",\n        \"std\": 0,\n        \"min\": 0,\n        \"max\": 1,\n        \"num_unique_values\": 2,\n        \"samples\": [\n          1,\n          0\n        ],\n        \"semantic_type\": \"\",\n        \"description\": \"\"\n      }\n    },\n    {\n      \"column\": \"genre_Thriller\",\n      \"properties\": {\n        \"dtype\": \"number\",\n        \"std\": 0,\n        \"min\": 0,\n        \"max\": 1,\n        \"num_unique_values\": 2,\n        \"samples\": [\n          1,\n          0\n        ],\n        \"semantic_type\": \"\",\n        \"description\": \"\"\n      }\n    },\n    {\n      \"column\": \"genre_Action\",\n      \"properties\": {\n        \"dtype\": \"number\",\n        \"std\": 0,\n        \"min\": 0,\n        \"max\": 1,\n        \"num_unique_values\": 2,\n        \"samples\": [\n          1,\n          0\n        ],\n        \"semantic_type\": \"\",\n        \"description\": \"\"\n      }\n    },\n    {\n      \"column\": \"genre_Romance\",\n      \"properties\": {\n        \"dtype\": \"number\",\n        \"std\": 0,\n        \"min\": 0,\n        \"max\": 1,\n        \"num_unique_values\": 2,\n        \"samples\": [\n          1,\n          0\n        ],\n        \"semantic_type\": \"\",\n        \"description\": \"\"\n      }\n    },\n    {\n      \"column\": \"genre_Crime\",\n      \"properties\": {\n        \"dtype\": \"number\",\n        \"std\": 0,\n        \"min\": 0,\n        \"max\": 1,\n        \"num_unique_values\": 2,\n        \"samples\": [\n          1,\n          0\n        ],\n        \"semantic_type\": \"\",\n        \"description\": \"\"\n      }\n    },\n    {\n      \"column\": \"genre_Adventure\",\n      \"properties\": {\n        \"dtype\": \"number\",\n        \"std\": 0,\n        \"min\": 0,\n        \"max\": 1,\n        \"num_unique_values\": 2,\n        \"samples\": [\n          0,\n          1\n        ],\n        \"semantic_type\": \"\",\n        \"description\": \"\"\n      }\n    },\n    {\n      \"column\": \"country_USA\",\n      \"properties\": {\n        \"dtype\": \"uint8\",\n        \"num_unique_values\": 2,\n        \"samples\": [\n          1,\n          0\n        ],\n        \"semantic_type\": \"\",\n        \"description\": \"\"\n      }\n    },\n    {\n      \"column\": \"release_month_second_half\",\n      \"properties\": {\n        \"dtype\": \"uint8\",\n        \"num_unique_values\": 2,\n        \"samples\": [\n          0,\n          1\n        ],\n        \"semantic_type\": \"\",\n        \"description\": \"\"\n      }\n    }\n  ]\n}"
            }
          },
          "metadata": {},
          "execution_count": 22
        }
      ]
    },
    {
      "cell_type": "code",
      "source": [
        "inputs = scaled_df\n",
        "target = final_df['profitable']"
      ],
      "metadata": {
        "id": "q-WZGmS7w6p_"
      },
      "execution_count": null,
      "outputs": []
    },
    {
      "cell_type": "markdown",
      "source": [
        "## **Train and Test**"
      ],
      "metadata": {
        "id": "vrYF0cfcxkRv"
      }
    },
    {
      "cell_type": "code",
      "source": [
        "from sklearn.model_selection import train_test_split\n",
        "\n",
        "x_train, x_test, y_train, y_test = train_test_split(inputs, target, test_size=0.2, random_state=325)\n",
        "x_train.shape, x_test.shape, y_train.shape, y_test.shape"
      ],
      "metadata": {
        "id": "ccMM44sX6bSr",
        "colab": {
          "base_uri": "https://localhost:8080/"
        },
        "outputId": "d35e1e78-6525-4b37-c4d1-7600a86e27bf"
      },
      "execution_count": null,
      "outputs": [
        {
          "output_type": "execute_result",
          "data": {
            "text/plain": [
              "((3579, 12), (895, 12), (3579,), (895,))"
            ]
          },
          "metadata": {},
          "execution_count": 24
        }
      ]
    },
    {
      "cell_type": "markdown",
      "source": [
        "## **Training and Evaluation**"
      ],
      "metadata": {
        "id": "Nv1FGJ1iYpjN"
      }
    },
    {
      "cell_type": "markdown",
      "source": [
        "### **1- Logistic Regression**"
      ],
      "metadata": {
        "id": "_1DSkvlAYvh6"
      }
    },
    {
      "cell_type": "code",
      "source": [
        "from sklearn.linear_model import LogisticRegression\n",
        "\n",
        "model = LogisticRegression()\n",
        "model.fit(x_train, y_train)"
      ],
      "metadata": {
        "colab": {
          "base_uri": "https://localhost:8080/",
          "height": 74
        },
        "id": "hIP8kHix4ooU",
        "outputId": "290fb652-bb5d-4b8e-cadf-46674cb9ac77"
      },
      "execution_count": null,
      "outputs": [
        {
          "output_type": "execute_result",
          "data": {
            "text/plain": [
              "LogisticRegression()"
            ],
            "text/html": [
              "<style>#sk-container-id-2 {color: black;background-color: white;}#sk-container-id-2 pre{padding: 0;}#sk-container-id-2 div.sk-toggleable {background-color: white;}#sk-container-id-2 label.sk-toggleable__label {cursor: pointer;display: block;width: 100%;margin-bottom: 0;padding: 0.3em;box-sizing: border-box;text-align: center;}#sk-container-id-2 label.sk-toggleable__label-arrow:before {content: \"▸\";float: left;margin-right: 0.25em;color: #696969;}#sk-container-id-2 label.sk-toggleable__label-arrow:hover:before {color: black;}#sk-container-id-2 div.sk-estimator:hover label.sk-toggleable__label-arrow:before {color: black;}#sk-container-id-2 div.sk-toggleable__content {max-height: 0;max-width: 0;overflow: hidden;text-align: left;background-color: #f0f8ff;}#sk-container-id-2 div.sk-toggleable__content pre {margin: 0.2em;color: black;border-radius: 0.25em;background-color: #f0f8ff;}#sk-container-id-2 input.sk-toggleable__control:checked~div.sk-toggleable__content {max-height: 200px;max-width: 100%;overflow: auto;}#sk-container-id-2 input.sk-toggleable__control:checked~label.sk-toggleable__label-arrow:before {content: \"▾\";}#sk-container-id-2 div.sk-estimator input.sk-toggleable__control:checked~label.sk-toggleable__label {background-color: #d4ebff;}#sk-container-id-2 div.sk-label input.sk-toggleable__control:checked~label.sk-toggleable__label {background-color: #d4ebff;}#sk-container-id-2 input.sk-hidden--visually {border: 0;clip: rect(1px 1px 1px 1px);clip: rect(1px, 1px, 1px, 1px);height: 1px;margin: -1px;overflow: hidden;padding: 0;position: absolute;width: 1px;}#sk-container-id-2 div.sk-estimator {font-family: monospace;background-color: #f0f8ff;border: 1px dotted black;border-radius: 0.25em;box-sizing: border-box;margin-bottom: 0.5em;}#sk-container-id-2 div.sk-estimator:hover {background-color: #d4ebff;}#sk-container-id-2 div.sk-parallel-item::after {content: \"\";width: 100%;border-bottom: 1px solid gray;flex-grow: 1;}#sk-container-id-2 div.sk-label:hover label.sk-toggleable__label {background-color: #d4ebff;}#sk-container-id-2 div.sk-serial::before {content: \"\";position: absolute;border-left: 1px solid gray;box-sizing: border-box;top: 0;bottom: 0;left: 50%;z-index: 0;}#sk-container-id-2 div.sk-serial {display: flex;flex-direction: column;align-items: center;background-color: white;padding-right: 0.2em;padding-left: 0.2em;position: relative;}#sk-container-id-2 div.sk-item {position: relative;z-index: 1;}#sk-container-id-2 div.sk-parallel {display: flex;align-items: stretch;justify-content: center;background-color: white;position: relative;}#sk-container-id-2 div.sk-item::before, #sk-container-id-2 div.sk-parallel-item::before {content: \"\";position: absolute;border-left: 1px solid gray;box-sizing: border-box;top: 0;bottom: 0;left: 50%;z-index: -1;}#sk-container-id-2 div.sk-parallel-item {display: flex;flex-direction: column;z-index: 1;position: relative;background-color: white;}#sk-container-id-2 div.sk-parallel-item:first-child::after {align-self: flex-end;width: 50%;}#sk-container-id-2 div.sk-parallel-item:last-child::after {align-self: flex-start;width: 50%;}#sk-container-id-2 div.sk-parallel-item:only-child::after {width: 0;}#sk-container-id-2 div.sk-dashed-wrapped {border: 1px dashed gray;margin: 0 0.4em 0.5em 0.4em;box-sizing: border-box;padding-bottom: 0.4em;background-color: white;}#sk-container-id-2 div.sk-label label {font-family: monospace;font-weight: bold;display: inline-block;line-height: 1.2em;}#sk-container-id-2 div.sk-label-container {text-align: center;}#sk-container-id-2 div.sk-container {/* jupyter's `normalize.less` sets `[hidden] { display: none; }` but bootstrap.min.css set `[hidden] { display: none !important; }` so we also need the `!important` here to be able to override the default hidden behavior on the sphinx rendered scikit-learn.org. See: https://github.com/scikit-learn/scikit-learn/issues/21755 */display: inline-block !important;position: relative;}#sk-container-id-2 div.sk-text-repr-fallback {display: none;}</style><div id=\"sk-container-id-2\" class=\"sk-top-container\"><div class=\"sk-text-repr-fallback\"><pre>LogisticRegression()</pre><b>In a Jupyter environment, please rerun this cell to show the HTML representation or trust the notebook. <br />On GitHub, the HTML representation is unable to render, please try loading this page with nbviewer.org.</b></div><div class=\"sk-container\" hidden><div class=\"sk-item\"><div class=\"sk-estimator sk-toggleable\"><input class=\"sk-toggleable__control sk-hidden--visually\" id=\"sk-estimator-id-2\" type=\"checkbox\" checked><label for=\"sk-estimator-id-2\" class=\"sk-toggleable__label sk-toggleable__label-arrow\">LogisticRegression</label><div class=\"sk-toggleable__content\"><pre>LogisticRegression()</pre></div></div></div></div></div>"
            ]
          },
          "metadata": {},
          "execution_count": 32
        }
      ]
    },
    {
      "cell_type": "code",
      "source": [
        "predictions = model.predict(x_test)"
      ],
      "metadata": {
        "id": "aK_9D1-55C50"
      },
      "execution_count": null,
      "outputs": []
    },
    {
      "cell_type": "code",
      "source": [
        "from sklearn.metrics import classification_report, confusion_matrix\n",
        "\n",
        "print(classification_report(y_test, predictions))\n",
        "print(confusion_matrix(y_test, predictions))"
      ],
      "metadata": {
        "colab": {
          "base_uri": "https://localhost:8080/"
        },
        "id": "FTylp4os5IUY",
        "outputId": "3a2aa8c5-b2bf-45f9-c9cf-c507809438be"
      },
      "execution_count": null,
      "outputs": [
        {
          "output_type": "stream",
          "name": "stdout",
          "text": [
            "              precision    recall  f1-score   support\n",
            "\n",
            "           0       0.74      0.81      0.77       361\n",
            "           1       0.86      0.81      0.84       534\n",
            "\n",
            "    accuracy                           0.81       895\n",
            "   macro avg       0.80      0.81      0.81       895\n",
            "weighted avg       0.81      0.81      0.81       895\n",
            "\n",
            "[[291  70]\n",
            " [100 434]]\n"
          ]
        }
      ]
    },
    {
      "cell_type": "code",
      "source": [
        "cm = confusion_matrix(y_test, predictions)\n",
        "sns.heatmap(cm, annot=True, cmap='Greens', fmt='0.0f')"
      ],
      "metadata": {
        "colab": {
          "base_uri": "https://localhost:8080/",
          "height": 451
        },
        "id": "lgh1aqMnmhXo",
        "outputId": "0b465149-11ef-4220-ecaa-9f3e5f6bdaa5"
      },
      "execution_count": null,
      "outputs": [
        {
          "output_type": "execute_result",
          "data": {
            "text/plain": [
              "<Axes: >"
            ]
          },
          "metadata": {},
          "execution_count": 35
        },
        {
          "output_type": "display_data",
          "data": {
            "text/plain": [
              "<Figure size 640x480 with 2 Axes>"
            ],
            "image/png": "[encoded data removed]"
          },
          "metadata": {}
        }
      ]
    },
    {
      "cell_type": "code",
      "source": [
        "from sklearn.metrics import f1_score, accuracy_score, precision_score, recall_score\n",
        "## Accuracy\n",
        "print('Accuracy = ', accuracy_score(y_test,predictions))\n",
        "## Precision\n",
        "print('Precision = ', precision_score(y_test,predictions))\n",
        "## Recall\n",
        "print('Recall = ', recall_score(y_test,predictions))\n",
        "## F1 Score\n",
        "print('F1_Score = ', f1_score(y_test,predictions))"
      ],
      "metadata": {
        "colab": {
          "base_uri": "https://localhost:8080/"
        },
        "id": "M_ngQC4Gp9pS",
        "outputId": "b99f5773-6ae0-4b27-a74b-85282aa359bb"
      },
      "execution_count": null,
      "outputs": [
        {
          "output_type": "stream",
          "name": "stdout",
          "text": [
            "Accuracy =  0.8100558659217877\n",
            "Precision =  0.8611111111111112\n",
            "Recall =  0.8127340823970037\n",
            "F1_Score =  0.836223506743738\n"
          ]
        }
      ]
    },
    {
      "cell_type": "code",
      "source": [
        "from sklearn.metrics import roc_curve, roc_auc_score\n",
        "\n",
        "# Compute the false positive rate (FPR)\n",
        "# and true positive rate (TPR) for different classification thresholds\n",
        "\n",
        "y_pred_prob = model.predict_proba(x_test)[:, 1]\n",
        "fpr, tpr, thresholds = roc_curve(y_test, y_pred_prob, pos_label=1)\n",
        "\n",
        "# Compute the ROC AUC score\n",
        "roc_auc = roc_auc_score(y_test, y_pred_prob)\n",
        "roc_auc"
      ],
      "metadata": {
        "colab": {
          "base_uri": "https://localhost:8080/"
        },
        "id": "iULyEgQaZTX5",
        "outputId": "ba9deef3-9c11-4e4a-d5c7-8da8bc54d36b"
      },
      "execution_count": null,
      "outputs": [
        {
          "output_type": "execute_result",
          "data": {
            "text/plain": [
              "0.878308278087294"
            ]
          },
          "metadata": {},
          "execution_count": 37
        }
      ]
    },
    {
      "cell_type": "code",
      "source": [
        "# Plot the ROC curve\n",
        "plt.plot(fpr, tpr, label='ROC curve (area = %0.2f)' % roc_auc)\n",
        "# roc curve for tpr = fpr\n",
        "plt.plot([0, 1], [0, 1], 'k--', label='Random classifier')\n",
        "plt.xlabel('False Positive Rate')\n",
        "plt.ylabel('True Positive Rate')\n",
        "plt.title('ROC Curve')\n",
        "plt.legend(loc=\"lower right\")\n",
        "plt.show()"
      ],
      "metadata": {
        "colab": {
          "base_uri": "https://localhost:8080/",
          "height": 480
        },
        "id": "cOAcskIGZ9El",
        "outputId": "cab65772-9d5e-4fe7-f3ef-f697e784480d"
      },
      "execution_count": null,
      "outputs": [
        {
          "output_type": "display_data",
          "data": {
            "text/plain": [
              "<Figure size 640x480 with 1 Axes>"
            ],
            "image/png": "[encoded data removed]"
          },
          "metadata": {}
        }
      ]
    },
    {
      "cell_type": "markdown",
      "source": [
        "### **2- Decision Tree**"
      ],
      "metadata": {
        "id": "NCkrCuYi8ASH"
      }
    },
    {
      "cell_type": "code",
      "execution_count": null,
      "metadata": {
        "collapsed": true,
        "id": "Rf3J0hTNFMb7",
        "outputId": "a0d8370b-75fa-413c-fead-22a91d3784c6",
        "colab": {
          "base_uri": "https://localhost:8080/"
        }
      },
      "outputs": [
        {
          "output_type": "execute_result",
          "data": {
            "text/plain": [
              "DecisionTreeClassifier()"
            ],
            "text/html": [
              "<style>#sk-container-id-3 {color: black;background-color: white;}#sk-container-id-3 pre{padding: 0;}#sk-container-id-3 div.sk-toggleable {background-color: white;}#sk-container-id-3 label.sk-toggleable__label {cursor: pointer;display: block;width: 100%;margin-bottom: 0;padding: 0.3em;box-sizing: border-box;text-align: center;}#sk-container-id-3 label.sk-toggleable__label-arrow:before {content: \"▸\";float: left;margin-right: 0.25em;color: #696969;}#sk-container-id-3 label.sk-toggleable__label-arrow:hover:before {color: black;}#sk-container-id-3 div.sk-estimator:hover label.sk-toggleable__label-arrow:before {color: black;}#sk-container-id-3 div.sk-toggleable__content {max-height: 0;max-width: 0;overflow: hidden;text-align: left;background-color: #f0f8ff;}#sk-container-id-3 div.sk-toggleable__content pre {margin: 0.2em;color: black;border-radius: 0.25em;background-color: #f0f8ff;}#sk-container-id-3 input.sk-toggleable__control:checked~div.sk-toggleable__content {max-height: 200px;max-width: 100%;overflow: auto;}#sk-container-id-3 input.sk-toggleable__control:checked~label.sk-toggleable__label-arrow:before {content: \"▾\";}#sk-container-id-3 div.sk-estimator input.sk-toggleable__control:checked~label.sk-toggleable__label {background-color: #d4ebff;}#sk-container-id-3 div.sk-label input.sk-toggleable__control:checked~label.sk-toggleable__label {background-color: #d4ebff;}#sk-container-id-3 input.sk-hidden--visually {border: 0;clip: rect(1px 1px 1px 1px);clip: rect(1px, 1px, 1px, 1px);height: 1px;margin: -1px;overflow: hidden;padding: 0;position: absolute;width: 1px;}#sk-container-id-3 div.sk-estimator {font-family: monospace;background-color: #f0f8ff;border: 1px dotted black;border-radius: 0.25em;box-sizing: border-box;margin-bottom: 0.5em;}#sk-container-id-3 div.sk-estimator:hover {background-color: #d4ebff;}#sk-container-id-3 div.sk-parallel-item::after {content: \"\";width: 100%;border-bottom: 1px solid gray;flex-grow: 1;}#sk-container-id-3 div.sk-label:hover label.sk-toggleable__label {background-color: #d4ebff;}#sk-container-id-3 div.sk-serial::before {content: \"\";position: absolute;border-left: 1px solid gray;box-sizing: border-box;top: 0;bottom: 0;left: 50%;z-index: 0;}#sk-container-id-3 div.sk-serial {display: flex;flex-direction: column;align-items: center;background-color: white;padding-right: 0.2em;padding-left: 0.2em;position: relative;}#sk-container-id-3 div.sk-item {position: relative;z-index: 1;}#sk-container-id-3 div.sk-parallel {display: flex;align-items: stretch;justify-content: center;background-color: white;position: relative;}#sk-container-id-3 div.sk-item::before, #sk-container-id-3 div.sk-parallel-item::before {content: \"\";position: absolute;border-left: 1px solid gray;box-sizing: border-box;top: 0;bottom: 0;left: 50%;z-index: -1;}#sk-container-id-3 div.sk-parallel-item {display: flex;flex-direction: column;z-index: 1;position: relative;background-color: white;}#sk-container-id-3 div.sk-parallel-item:first-child::after {align-self: flex-end;width: 50%;}#sk-container-id-3 div.sk-parallel-item:last-child::after {align-self: flex-start;width: 50%;}#sk-container-id-3 div.sk-parallel-item:only-child::after {width: 0;}#sk-container-id-3 div.sk-dashed-wrapped {border: 1px dashed gray;margin: 0 0.4em 0.5em 0.4em;box-sizing: border-box;padding-bottom: 0.4em;background-color: white;}#sk-container-id-3 div.sk-label label {font-family: monospace;font-weight: bold;display: inline-block;line-height: 1.2em;}#sk-container-id-3 div.sk-label-container {text-align: center;}#sk-container-id-3 div.sk-container {/* jupyter's `normalize.less` sets `[hidden] { display: none; }` but bootstrap.min.css set `[hidden] { display: none !important; }` so we also need the `!important` here to be able to override the default hidden behavior on the sphinx rendered scikit-learn.org. See: https://github.com/scikit-learn/scikit-learn/issues/21755 */display: inline-block !important;position: relative;}#sk-container-id-3 div.sk-text-repr-fallback {display: none;}</style><div id=\"sk-container-id-3\" class=\"sk-top-container\"><div class=\"sk-text-repr-fallback\"><pre>DecisionTreeClassifier()</pre><b>In a Jupyter environment, please rerun this cell to show the HTML representation or trust the notebook. <br />On GitHub, the HTML representation is unable to render, please try loading this page with nbviewer.org.</b></div><div class=\"sk-container\" hidden><div class=\"sk-item\"><div class=\"sk-estimator sk-toggleable\"><input class=\"sk-toggleable__control sk-hidden--visually\" id=\"sk-estimator-id-3\" type=\"checkbox\" checked><label for=\"sk-estimator-id-3\" class=\"sk-toggleable__label sk-toggleable__label-arrow\">DecisionTreeClassifier</label><div class=\"sk-toggleable__content\"><pre>DecisionTreeClassifier()</pre></div></div></div></div></div>"
            ]
          },
          "metadata": {},
          "execution_count": 39
        }
      ],
      "source": [
        "from sklearn.tree import DecisionTreeClassifier\n",
        "\n",
        "dtree = DecisionTreeClassifier()\n",
        "dtree.fit(x_train,y_train)"
      ]
    },
    {
      "cell_type": "code",
      "source": [
        "predictions = dtree.predict(x_test)"
      ],
      "metadata": {
        "id": "x7uVjtA28ASI"
      },
      "execution_count": null,
      "outputs": []
    },
    {
      "cell_type": "code",
      "source": [
        "from sklearn.metrics import classification_report, confusion_matrix\n",
        "\n",
        "print(classification_report(y_test, predictions))\n",
        "print(confusion_matrix(y_test, predictions))"
      ],
      "metadata": {
        "colab": {
          "base_uri": "https://localhost:8080/"
        },
        "outputId": "b09d3b0a-5c7e-45cd-fa58-434d12c4eada",
        "id": "7Zi7pFkD8ASJ"
      },
      "execution_count": null,
      "outputs": [
        {
          "output_type": "stream",
          "name": "stdout",
          "text": [
            "              precision    recall  f1-score   support\n",
            "\n",
            "           0       0.68      0.68      0.68       361\n",
            "           1       0.79      0.78      0.78       534\n",
            "\n",
            "    accuracy                           0.74       895\n",
            "   macro avg       0.73      0.73      0.73       895\n",
            "weighted avg       0.74      0.74      0.74       895\n",
            "\n",
            "[[247 114]\n",
            " [116 418]]\n"
          ]
        }
      ]
    },
    {
      "cell_type": "code",
      "source": [
        "cm = confusion_matrix(y_test, predictions)\n",
        "sns.heatmap(cm, annot=True, cmap='Greens', fmt='0.0f')"
      ],
      "metadata": {
        "colab": {
          "base_uri": "https://localhost:8080/"
        },
        "outputId": "6bb1aff2-d3e4-453a-c6f7-c9837a40ecf1",
        "id": "0Qunt8Gz8ASJ"
      },
      "execution_count": null,
      "outputs": [
        {
          "output_type": "execute_result",
          "data": {
            "text/plain": [
              "<Axes: >"
            ]
          },
          "metadata": {},
          "execution_count": 42
        },
        {
          "output_type": "display_data",
          "data": {
            "text/plain": [
              "<Figure size 640x480 with 2 Axes>"
            ],
            "image/png": "[encoded data removed]"
          },
          "metadata": {}
        }
      ]
    },
    {
      "cell_type": "code",
      "source": [
        "from sklearn.metrics import f1_score, accuracy_score, precision_score, recall_score\n",
        "## Accuracy\n",
        "print('Accuracy = ', accuracy_score(y_test,predictions))\n",
        "## Precision\n",
        "print('Precision = ', precision_score(y_test,predictions))\n",
        "## Recall\n",
        "print('Recall = ', recall_score(y_test,predictions))\n",
        "## F1 Score\n",
        "print('F1_Score = ', f1_score(y_test,predictions))"
      ],
      "metadata": {
        "colab": {
          "base_uri": "https://localhost:8080/"
        },
        "outputId": "86035656-3efe-4362-c01b-f6c768ed5523",
        "id": "8RsbpLqe8ASK"
      },
      "execution_count": null,
      "outputs": [
        {
          "output_type": "stream",
          "name": "stdout",
          "text": [
            "Accuracy =  0.7430167597765364\n",
            "Precision =  0.7857142857142857\n",
            "Recall =  0.7827715355805244\n",
            "F1_Score =  0.7842401500938087\n"
          ]
        }
      ]
    },
    {
      "cell_type": "code",
      "source": [
        "from sklearn.metrics import roc_curve, roc_auc_score\n",
        "\n",
        "# Compute the false positive rate (FPR)\n",
        "# and true positive rate (TPR) for different classification thresholds\n",
        "\n",
        "y_pred_prob = dtree.predict_proba(x_test)[:, 1]\n",
        "fpr, tpr, thresholds = roc_curve(y_test, y_pred_prob, pos_label=1)\n",
        "\n",
        "# Compute the ROC AUC score\n",
        "roc_auc = roc_auc_score(y_test, y_pred_prob)\n",
        "roc_auc"
      ],
      "metadata": {
        "outputId": "185d6d8b-7c9b-42a2-cdae-9484de1076e8",
        "colab": {
          "base_uri": "https://localhost:8080/"
        },
        "id": "kby3tV3n8ASK"
      },
      "execution_count": null,
      "outputs": [
        {
          "output_type": "execute_result",
          "data": {
            "text/plain": [
              "0.7334910309481568"
            ]
          },
          "metadata": {},
          "execution_count": 44
        }
      ]
    },
    {
      "cell_type": "code",
      "source": [
        "# Plot the ROC curve\n",
        "plt.plot(fpr, tpr, label='ROC curve (area = %0.2f)' % roc_auc)\n",
        "# roc curve for tpr = fpr\n",
        "plt.plot([0, 1], [0, 1], 'k--', label='Random classifier')\n",
        "plt.xlabel('False Positive Rate')\n",
        "plt.ylabel('True Positive Rate')\n",
        "plt.title('ROC Curve')\n",
        "plt.legend(loc=\"lower right\")\n",
        "plt.show()"
      ],
      "metadata": {
        "outputId": "c378c035-8c2c-46bd-e0cf-f747aa6cea48",
        "colab": {
          "base_uri": "https://localhost:8080/"
        },
        "id": "Rvr9R-mv8ASK"
      },
      "execution_count": null,
      "outputs": [
        {
          "output_type": "display_data",
          "data": {
            "text/plain": [
              "<Figure size 640x480 with 1 Axes>"
            ],
            "image/png": "[encoded data removed]"
          },
          "metadata": {}
        }
      ]
    },
    {
      "cell_type": "markdown",
      "source": [
        "### **3- Random Forest**"
      ],
      "metadata": {
        "id": "DbVEnZq2F7LN"
      }
    },
    {
      "cell_type": "code",
      "source": [
        "from sklearn.ensemble import RandomForestClassifier\n",
        "\n",
        "rfc = RandomForestClassifier(n_estimators=100)\n",
        "rfc.fit(x_train, y_train)"
      ],
      "metadata": {
        "colab": {
          "base_uri": "https://localhost:8080/",
          "height": 74
        },
        "outputId": "4bc580d3-c5f1-42c8-e854-9cd33fa57cb5",
        "id": "V-jj5U18F7LN"
      },
      "execution_count": null,
      "outputs": [
        {
          "output_type": "execute_result",
          "data": {
            "text/plain": [
              "RandomForestClassifier()"
            ],
            "text/html": [
              "<style>#sk-container-id-1 {color: black;background-color: white;}#sk-container-id-1 pre{padding: 0;}#sk-container-id-1 div.sk-toggleable {background-color: white;}#sk-container-id-1 label.sk-toggleable__label {cursor: pointer;display: block;width: 100%;margin-bottom: 0;padding: 0.3em;box-sizing: border-box;text-align: center;}#sk-container-id-1 label.sk-toggleable__label-arrow:before {content: \"▸\";float: left;margin-right: 0.25em;color: #696969;}#sk-container-id-1 label.sk-toggleable__label-arrow:hover:before {color: black;}#sk-container-id-1 div.sk-estimator:hover label.sk-toggleable__label-arrow:before {color: black;}#sk-container-id-1 div.sk-toggleable__content {max-height: 0;max-width: 0;overflow: hidden;text-align: left;background-color: #f0f8ff;}#sk-container-id-1 div.sk-toggleable__content pre {margin: 0.2em;color: black;border-radius: 0.25em;background-color: #f0f8ff;}#sk-container-id-1 input.sk-toggleable__control:checked~div.sk-toggleable__content {max-height: 200px;max-width: 100%;overflow: auto;}#sk-container-id-1 input.sk-toggleable__control:checked~label.sk-toggleable__label-arrow:before {content: \"▾\";}#sk-container-id-1 div.sk-estimator input.sk-toggleable__control:checked~label.sk-toggleable__label {background-color: #d4ebff;}#sk-container-id-1 div.sk-label input.sk-toggleable__control:checked~label.sk-toggleable__label {background-color: #d4ebff;}#sk-container-id-1 input.sk-hidden--visually {border: 0;clip: rect(1px 1px 1px 1px);clip: rect(1px, 1px, 1px, 1px);height: 1px;margin: -1px;overflow: hidden;padding: 0;position: absolute;width: 1px;}#sk-container-id-1 div.sk-estimator {font-family: monospace;background-color: #f0f8ff;border: 1px dotted black;border-radius: 0.25em;box-sizing: border-box;margin-bottom: 0.5em;}#sk-container-id-1 div.sk-estimator:hover {background-color: #d4ebff;}#sk-container-id-1 div.sk-parallel-item::after {content: \"\";width: 100%;border-bottom: 1px solid gray;flex-grow: 1;}#sk-container-id-1 div.sk-label:hover label.sk-toggleable__label {background-color: #d4ebff;}#sk-container-id-1 div.sk-serial::before {content: \"\";position: absolute;border-left: 1px solid gray;box-sizing: border-box;top: 0;bottom: 0;left: 50%;z-index: 0;}#sk-container-id-1 div.sk-serial {display: flex;flex-direction: column;align-items: center;background-color: white;padding-right: 0.2em;padding-left: 0.2em;position: relative;}#sk-container-id-1 div.sk-item {position: relative;z-index: 1;}#sk-container-id-1 div.sk-parallel {display: flex;align-items: stretch;justify-content: center;background-color: white;position: relative;}#sk-container-id-1 div.sk-item::before, #sk-container-id-1 div.sk-parallel-item::before {content: \"\";position: absolute;border-left: 1px solid gray;box-sizing: border-box;top: 0;bottom: 0;left: 50%;z-index: -1;}#sk-container-id-1 div.sk-parallel-item {display: flex;flex-direction: column;z-index: 1;position: relative;background-color: white;}#sk-container-id-1 div.sk-parallel-item:first-child::after {align-self: flex-end;width: 50%;}#sk-container-id-1 div.sk-parallel-item:last-child::after {align-self: flex-start;width: 50%;}#sk-container-id-1 div.sk-parallel-item:only-child::after {width: 0;}#sk-container-id-1 div.sk-dashed-wrapped {border: 1px dashed gray;margin: 0 0.4em 0.5em 0.4em;box-sizing: border-box;padding-bottom: 0.4em;background-color: white;}#sk-container-id-1 div.sk-label label {font-family: monospace;font-weight: bold;display: inline-block;line-height: 1.2em;}#sk-container-id-1 div.sk-label-container {text-align: center;}#sk-container-id-1 div.sk-container {/* jupyter's `normalize.less` sets `[hidden] { display: none; }` but bootstrap.min.css set `[hidden] { display: none !important; }` so we also need the `!important` here to be able to override the default hidden behavior on the sphinx rendered scikit-learn.org. See: https://github.com/scikit-learn/scikit-learn/issues/21755 */display: inline-block !important;position: relative;}#sk-container-id-1 div.sk-text-repr-fallback {display: none;}</style><div id=\"sk-container-id-1\" class=\"sk-top-container\"><div class=\"sk-text-repr-fallback\"><pre>RandomForestClassifier()</pre><b>In a Jupyter environment, please rerun this cell to show the HTML representation or trust the notebook. <br />On GitHub, the HTML representation is unable to render, please try loading this page with nbviewer.org.</b></div><div class=\"sk-container\" hidden><div class=\"sk-item\"><div class=\"sk-estimator sk-toggleable\"><input class=\"sk-toggleable__control sk-hidden--visually\" id=\"sk-estimator-id-1\" type=\"checkbox\" checked><label for=\"sk-estimator-id-1\" class=\"sk-toggleable__label sk-toggleable__label-arrow\">RandomForestClassifier</label><div class=\"sk-toggleable__content\"><pre>RandomForestClassifier()</pre></div></div></div></div></div>"
            ]
          },
          "metadata": {},
          "execution_count": 25
        }
      ]
    },
    {
      "cell_type": "code",
      "source": [
        "predictions = rfc.predict(x_test)"
      ],
      "metadata": {
        "id": "rU67A2iWF7LO"
      },
      "execution_count": null,
      "outputs": []
    },
    {
      "cell_type": "code",
      "source": [
        "from sklearn.metrics import classification_report, confusion_matrix\n",
        "\n",
        "print(classification_report(y_test, predictions))\n",
        "print(confusion_matrix(y_test, predictions))"
      ],
      "metadata": {
        "colab": {
          "base_uri": "https://localhost:8080/"
        },
        "outputId": "a52fe68e-8b64-4ecf-af19-b4513aa20d2c",
        "id": "VL64k90pF7LO"
      },
      "execution_count": null,
      "outputs": [
        {
          "output_type": "stream",
          "name": "stdout",
          "text": [
            "              precision    recall  f1-score   support\n",
            "\n",
            "           0       0.78      0.70      0.74       361\n",
            "           1       0.81      0.87      0.84       534\n",
            "\n",
            "    accuracy                           0.80       895\n",
            "   macro avg       0.79      0.78      0.79       895\n",
            "weighted avg       0.80      0.80      0.80       895\n",
            "\n",
            "[[252 109]\n",
            " [ 71 463]]\n"
          ]
        }
      ]
    },
    {
      "cell_type": "code",
      "source": [
        "cm = confusion_matrix(y_test, predictions)\n",
        "sns.heatmap(cm, annot=True, cmap='Greens', fmt='0.0f')"
      ],
      "metadata": {
        "colab": {
          "base_uri": "https://localhost:8080/",
          "height": 451
        },
        "outputId": "517d01d4-fdb2-4ae4-a3a0-0a9623069da3",
        "id": "Hs0tm-yrF7LP"
      },
      "execution_count": null,
      "outputs": [
        {
          "output_type": "execute_result",
          "data": {
            "text/plain": [
              "<Axes: >"
            ]
          },
          "metadata": {},
          "execution_count": 28
        },
        {
          "output_type": "display_data",
          "data": {
            "text/plain": [
              "<Figure size 640x480 with 2 Axes>"
            ],
            "image/png": "[encoded data removed]"
          },
          "metadata": {}
        }
      ]
    },
    {
      "cell_type": "code",
      "source": [
        "from sklearn.metrics import f1_score, accuracy_score, precision_score, recall_score\n",
        "## Accuracy\n",
        "print('Accuracy = ', accuracy_score(y_test,predictions))\n",
        "## Precision\n",
        "print('Precision = ', precision_score(y_test,predictions))\n",
        "## Recall\n",
        "print('Recall = ', recall_score(y_test,predictions))\n",
        "## F1 Score\n",
        "print('F1_Score = ', f1_score(y_test,predictions))"
      ],
      "metadata": {
        "colab": {
          "base_uri": "https://localhost:8080/"
        },
        "outputId": "76a07ddf-1e91-4013-f279-b69c0b2b94bd",
        "id": "f6qzX20zF7LP"
      },
      "execution_count": null,
      "outputs": [
        {
          "output_type": "stream",
          "name": "stdout",
          "text": [
            "Accuracy =  0.7988826815642458\n",
            "Precision =  0.8094405594405595\n",
            "Recall =  0.8670411985018727\n",
            "F1_Score =  0.8372513562386981\n"
          ]
        }
      ]
    },
    {
      "cell_type": "code",
      "source": [
        "from sklearn.metrics import roc_curve, roc_auc_score\n",
        "\n",
        "# Compute the false positive rate (FPR)\n",
        "# and true positive rate (TPR) for different classification thresholds\n",
        "\n",
        "y_pred_prob = rfc.predict_proba(x_test)[:, 1]\n",
        "fpr, tpr, thresholds = roc_curve(y_test, y_pred_prob, pos_label=1)\n",
        "\n",
        "# Compute the ROC AUC score\n",
        "roc_auc = roc_auc_score(y_test, y_pred_prob)\n",
        "roc_auc"
      ],
      "metadata": {
        "colab": {
          "base_uri": "https://localhost:8080/"
        },
        "outputId": "0eb7bdc7-59d5-46c0-9a9a-6e900b659ab7",
        "id": "1cMr63xqF7LQ"
      },
      "execution_count": null,
      "outputs": [
        {
          "output_type": "execute_result",
          "data": {
            "text/plain": [
              "0.8679386224283357"
            ]
          },
          "metadata": {},
          "execution_count": 30
        }
      ]
    },
    {
      "cell_type": "code",
      "source": [
        "# Plot the ROC curve\n",
        "plt.plot(fpr, tpr, label='ROC curve (area = %0.2f)' % roc_auc)\n",
        "# roc curve for tpr = fpr\n",
        "plt.plot([0, 1], [0, 1], 'k--', label='Random classifier')\n",
        "plt.xlabel('False Positive Rate')\n",
        "plt.ylabel('True Positive Rate')\n",
        "plt.title('ROC Curve')\n",
        "plt.legend(loc=\"lower right\")\n",
        "plt.show()"
      ],
      "metadata": {
        "colab": {
          "base_uri": "https://localhost:8080/",
          "height": 480
        },
        "outputId": "592e12ef-3190-4606-92aa-eaa9ca20ff02",
        "id": "WwgyaCoSF7LQ"
      },
      "execution_count": null,
      "outputs": [
        {
          "output_type": "display_data",
          "data": {
            "text/plain": [
              "<Figure size 640x480 with 1 Axes>"
            ],
            "image/png": "[encoded data removed]"
          },
          "metadata": {}
        }
      ]
    },
    {
      "cell_type": "markdown",
      "source": [
        "### **4- XGBoost**"
      ],
      "metadata": {
        "id": "ZydkE5N9GlyZ"
      }
    },
    {
      "cell_type": "code",
      "source": [
        "from xgboost import XGBClassifier\n",
        "\n",
        "model = XGBClassifier()\n",
        "model.fit(x_train, y_train)"
      ],
      "metadata": {
        "id": "1eVjRlZ0Hx4Q",
        "outputId": "8273ad56-8754-433a-e832-0b82489ef09f",
        "colab": {
          "base_uri": "https://localhost:8080/",
          "height": 248
        }
      },
      "execution_count": null,
      "outputs": [
        {
          "output_type": "execute_result",
          "data": {
            "text/plain": [
              "XGBClassifier(base_score=None, booster=None, callbacks=None,\n",
              "              colsample_bylevel=None, colsample_bynode=None,\n",
              "              colsample_bytree=None, device=None, early_stopping_rounds=None,\n",
              "              enable_categorical=False, eval_metric=None, feature_types=None,\n",
              "              gamma=None, grow_policy=None, importance_type=None,\n",
              "              interaction_constraints=None, learning_rate=None, max_bin=None,\n",
              "              max_cat_threshold=None, max_cat_to_onehot=None,\n",
              "              max_delta_step=None, max_depth=None, max_leaves=None,\n",
              "              min_child_weight=None, missing=nan, monotone_constraints=None,\n",
              "              multi_strategy=None, n_estimators=None, n_jobs=None,\n",
              "              num_parallel_tree=None, random_state=None, ...)"
            ],
            "text/html": [
              "<style>#sk-container-id-4 {color: black;background-color: white;}#sk-container-id-4 pre{padding: 0;}#sk-container-id-4 div.sk-toggleable {background-color: white;}#sk-container-id-4 label.sk-toggleable__label {cursor: pointer;display: block;width: 100%;margin-bottom: 0;padding: 0.3em;box-sizing: border-box;text-align: center;}#sk-container-id-4 label.sk-toggleable__label-arrow:before {content: \"▸\";float: left;margin-right: 0.25em;color: #696969;}#sk-container-id-4 label.sk-toggleable__label-arrow:hover:before {color: black;}#sk-container-id-4 div.sk-estimator:hover label.sk-toggleable__label-arrow:before {color: black;}#sk-container-id-4 div.sk-toggleable__content {max-height: 0;max-width: 0;overflow: hidden;text-align: left;background-color: #f0f8ff;}#sk-container-id-4 div.sk-toggleable__content pre {margin: 0.2em;color: black;border-radius: 0.25em;background-color: #f0f8ff;}#sk-container-id-4 input.sk-toggleable__control:checked~div.sk-toggleable__content {max-height: 200px;max-width: 100%;overflow: auto;}#sk-container-id-4 input.sk-toggleable__control:checked~label.sk-toggleable__label-arrow:before {content: \"▾\";}#sk-container-id-4 div.sk-estimator input.sk-toggleable__control:checked~label.sk-toggleable__label {background-color: #d4ebff;}#sk-container-id-4 div.sk-label input.sk-toggleable__control:checked~label.sk-toggleable__label {background-color: #d4ebff;}#sk-container-id-4 input.sk-hidden--visually {border: 0;clip: rect(1px 1px 1px 1px);clip: rect(1px, 1px, 1px, 1px);height: 1px;margin: -1px;overflow: hidden;padding: 0;position: absolute;width: 1px;}#sk-container-id-4 div.sk-estimator {font-family: monospace;background-color: #f0f8ff;border: 1px dotted black;border-radius: 0.25em;box-sizing: border-box;margin-bottom: 0.5em;}#sk-container-id-4 div.sk-estimator:hover {background-color: #d4ebff;}#sk-container-id-4 div.sk-parallel-item::after {content: \"\";width: 100%;border-bottom: 1px solid gray;flex-grow: 1;}#sk-container-id-4 div.sk-label:hover label.sk-toggleable__label {background-color: #d4ebff;}#sk-container-id-4 div.sk-serial::before {content: \"\";position: absolute;border-left: 1px solid gray;box-sizing: border-box;top: 0;bottom: 0;left: 50%;z-index: 0;}#sk-container-id-4 div.sk-serial {display: flex;flex-direction: column;align-items: center;background-color: white;padding-right: 0.2em;padding-left: 0.2em;position: relative;}#sk-container-id-4 div.sk-item {position: relative;z-index: 1;}#sk-container-id-4 div.sk-parallel {display: flex;align-items: stretch;justify-content: center;background-color: white;position: relative;}#sk-container-id-4 div.sk-item::before, #sk-container-id-4 div.sk-parallel-item::before {content: \"\";position: absolute;border-left: 1px solid gray;box-sizing: border-box;top: 0;bottom: 0;left: 50%;z-index: -1;}#sk-container-id-4 div.sk-parallel-item {display: flex;flex-direction: column;z-index: 1;position: relative;background-color: white;}#sk-container-id-4 div.sk-parallel-item:first-child::after {align-self: flex-end;width: 50%;}#sk-container-id-4 div.sk-parallel-item:last-child::after {align-self: flex-start;width: 50%;}#sk-container-id-4 div.sk-parallel-item:only-child::after {width: 0;}#sk-container-id-4 div.sk-dashed-wrapped {border: 1px dashed gray;margin: 0 0.4em 0.5em 0.4em;box-sizing: border-box;padding-bottom: 0.4em;background-color: white;}#sk-container-id-4 div.sk-label label {font-family: monospace;font-weight: bold;display: inline-block;line-height: 1.2em;}#sk-container-id-4 div.sk-label-container {text-align: center;}#sk-container-id-4 div.sk-container {/* jupyter's `normalize.less` sets `[hidden] { display: none; }` but bootstrap.min.css set `[hidden] { display: none !important; }` so we also need the `!important` here to be able to override the default hidden behavior on the sphinx rendered scikit-learn.org. See: https://github.com/scikit-learn/scikit-learn/issues/21755 */display: inline-block !important;position: relative;}#sk-container-id-4 div.sk-text-repr-fallback {display: none;}</style><div id=\"sk-container-id-4\" class=\"sk-top-container\"><div class=\"sk-text-repr-fallback\"><pre>XGBClassifier(base_score=None, booster=None, callbacks=None,\n",
              "              colsample_bylevel=None, colsample_bynode=None,\n",
              "              colsample_bytree=None, device=None, early_stopping_rounds=None,\n",
              "              enable_categorical=False, eval_metric=None, feature_types=None,\n",
              "              gamma=None, grow_policy=None, importance_type=None,\n",
              "              interaction_constraints=None, learning_rate=None, max_bin=None,\n",
              "              max_cat_threshold=None, max_cat_to_onehot=None,\n",
              "              max_delta_step=None, max_depth=None, max_leaves=None,\n",
              "              min_child_weight=None, missing=nan, monotone_constraints=None,\n",
              "              multi_strategy=None, n_estimators=None, n_jobs=None,\n",
              "              num_parallel_tree=None, random_state=None, ...)</pre><b>In a Jupyter environment, please rerun this cell to show the HTML representation or trust the notebook. <br />On GitHub, the HTML representation is unable to render, please try loading this page with nbviewer.org.</b></div><div class=\"sk-container\" hidden><div class=\"sk-item\"><div class=\"sk-estimator sk-toggleable\"><input class=\"sk-toggleable__control sk-hidden--visually\" id=\"sk-estimator-id-4\" type=\"checkbox\" checked><label for=\"sk-estimator-id-4\" class=\"sk-toggleable__label sk-toggleable__label-arrow\">XGBClassifier</label><div class=\"sk-toggleable__content\"><pre>XGBClassifier(base_score=None, booster=None, callbacks=None,\n",
              "              colsample_bylevel=None, colsample_bynode=None,\n",
              "              colsample_bytree=None, device=None, early_stopping_rounds=None,\n",
              "              enable_categorical=False, eval_metric=None, feature_types=None,\n",
              "              gamma=None, grow_policy=None, importance_type=None,\n",
              "              interaction_constraints=None, learning_rate=None, max_bin=None,\n",
              "              max_cat_threshold=None, max_cat_to_onehot=None,\n",
              "              max_delta_step=None, max_depth=None, max_leaves=None,\n",
              "              min_child_weight=None, missing=nan, monotone_constraints=None,\n",
              "              multi_strategy=None, n_estimators=None, n_jobs=None,\n",
              "              num_parallel_tree=None, random_state=None, ...)</pre></div></div></div></div></div>"
            ]
          },
          "metadata": {},
          "execution_count": 46
        }
      ]
    },
    {
      "cell_type": "code",
      "source": [
        "predictions = model.predict(x_test)"
      ],
      "metadata": {
        "id": "ov9D5vlwIIZL"
      },
      "execution_count": null,
      "outputs": []
    },
    {
      "cell_type": "code",
      "source": [
        "from sklearn.metrics import classification_report, confusion_matrix\n",
        "\n",
        "print(classification_report(y_test, predictions))\n",
        "print(confusion_matrix(y_test, predictions))"
      ],
      "metadata": {
        "colab": {
          "base_uri": "https://localhost:8080/"
        },
        "outputId": "7ac38d28-5c03-4daf-fefd-a3fe66a9f046",
        "id": "KnBnW6BdGlyb"
      },
      "execution_count": null,
      "outputs": [
        {
          "output_type": "stream",
          "name": "stdout",
          "text": [
            "              precision    recall  f1-score   support\n",
            "\n",
            "           0       0.79      0.71      0.75       361\n",
            "           1       0.82      0.87      0.84       534\n",
            "\n",
            "    accuracy                           0.81       895\n",
            "   macro avg       0.80      0.79      0.80       895\n",
            "weighted avg       0.81      0.81      0.80       895\n",
            "\n",
            "[[257 104]\n",
            " [ 69 465]]\n"
          ]
        }
      ]
    },
    {
      "cell_type": "code",
      "source": [
        "cm = confusion_matrix(y_test, predictions)\n",
        "sns.heatmap(cm, annot=True, cmap='Greens', fmt='0.0f')"
      ],
      "metadata": {
        "colab": {
          "base_uri": "https://localhost:8080/",
          "height": 451
        },
        "outputId": "ae590b27-45f7-419d-a6ec-ee91f439cf12",
        "id": "DN-mv7prGlyb"
      },
      "execution_count": null,
      "outputs": [
        {
          "output_type": "execute_result",
          "data": {
            "text/plain": [
              "<Axes: >"
            ]
          },
          "metadata": {},
          "execution_count": 49
        },
        {
          "output_type": "display_data",
          "data": {
            "text/plain": [
              "<Figure size 640x480 with 2 Axes>"
            ],
            "image/png": "[encoded data removed]"
          },
          "metadata": {}
        }
      ]
    },
    {
      "cell_type": "code",
      "source": [
        "from sklearn.metrics import f1_score, accuracy_score, precision_score, recall_score\n",
        "## Accuracy\n",
        "print('Accuracy = ', accuracy_score(y_test,predictions))\n",
        "## Precision\n",
        "print('Precision = ', precision_score(y_test,predictions))\n",
        "## Recall\n",
        "print('Recall = ', recall_score(y_test,predictions))\n",
        "## F1 Score\n",
        "print('F1_Score = ', f1_score(y_test,predictions))"
      ],
      "metadata": {
        "colab": {
          "base_uri": "https://localhost:8080/"
        },
        "outputId": "68ea7afa-5b98-426b-9927-6e003e8acc64",
        "id": "RwBdcWVtGlyb"
      },
      "execution_count": null,
      "outputs": [
        {
          "output_type": "stream",
          "name": "stdout",
          "text": [
            "Accuracy =  0.8067039106145252\n",
            "Precision =  0.8172231985940246\n",
            "Recall =  0.8707865168539326\n",
            "F1_Score =  0.843155031731641\n"
          ]
        }
      ]
    },
    {
      "cell_type": "code",
      "source": [
        "from sklearn.metrics import roc_curve, roc_auc_score\n",
        "\n",
        "# Compute the false positive rate (FPR)\n",
        "# and true positive rate (TPR) for different classification thresholds\n",
        "\n",
        "y_pred_prob = model.predict_proba(x_test)[:, 1]\n",
        "fpr, tpr, thresholds = roc_curve(y_test, y_pred_prob, pos_label=1)\n",
        "\n",
        "# Compute the ROC AUC score\n",
        "roc_auc = roc_auc_score(y_test, y_pred_prob)\n",
        "roc_auc"
      ],
      "metadata": {
        "colab": {
          "base_uri": "https://localhost:8080/"
        },
        "outputId": "fe476785-ea2c-4c2b-accb-7404d2b63358",
        "id": "CJvXdR8YGlyc"
      },
      "execution_count": null,
      "outputs": [
        {
          "output_type": "execute_result",
          "data": {
            "text/plain": [
              "0.8649714173073132"
            ]
          },
          "metadata": {},
          "execution_count": 51
        }
      ]
    },
    {
      "cell_type": "code",
      "source": [
        "# Plot the ROC curve\n",
        "plt.plot(fpr, tpr, label='ROC curve (area = %0.2f)' % roc_auc)\n",
        "# roc curve for tpr = fpr\n",
        "plt.plot([0, 1], [0, 1], 'k--', label='Random classifier')\n",
        "plt.xlabel('False Positive Rate')\n",
        "plt.ylabel('True Positive Rate')\n",
        "plt.title('ROC Curve')\n",
        "plt.legend(loc=\"lower right\")\n",
        "plt.show()"
      ],
      "metadata": {
        "colab": {
          "base_uri": "https://localhost:8080/",
          "height": 480
        },
        "outputId": "72165494-7b86-4de6-fa81-909e6ad1d40e",
        "id": "qdIC4p9yGlyc"
      },
      "execution_count": null,
      "outputs": [
        {
          "output_type": "display_data",
          "data": {
            "text/plain": [
              "<Figure size 640x480 with 1 Axes>"
            ],
            "image/png": "[encoded data removed]"
          },
          "metadata": {}
        }
      ]
    }
  ]
}